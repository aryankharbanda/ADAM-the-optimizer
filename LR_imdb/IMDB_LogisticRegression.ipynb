{
  "cells": [
    {
      "cell_type": "markdown",
      "metadata": {
        "id": "y-QHS9TrcgQx"
      },
      "source": [
        "### Load Data"
      ]
    },
    {
      "cell_type": "code",
      "execution_count": 1,
      "metadata": {
        "id": "3i5y-o45MPVu"
      },
      "outputs": [
        {
          "name": "stderr",
          "output_type": "stream",
          "text": [
            "/Users/priyanshul/miniconda/envs/SMAI/lib/python3.10/site-packages/scipy/__init__.py:146: UserWarning: A NumPy version >=1.16.5 and <1.23.0 is required for this version of SciPy (detected version 1.23.5\n",
            "  warnings.warn(f\"A NumPy version >={np_minversion} and <{np_maxversion}\"\n"
          ]
        }
      ],
      "source": [
        "from keras.datasets import imdb\n",
        "\n",
        "# Load the data, keeping only 10,000 of the most frequently occuring words\n",
        "(train_data, train_labels), (test_data, test_labels) = imdb.load_data(num_words = 10000)"
      ]
    },
    {
      "cell_type": "code",
      "execution_count": 2,
      "metadata": {
        "colab": {
          "base_uri": "https://localhost:8080/"
        },
        "id": "p4fodXOhM4ZR",
        "outputId": "b93bc6fc-520b-4cc1-c1e9-00299cac162d"
      },
      "outputs": [
        {
          "data": {
            "text/plain": [
              "9999"
            ]
          },
          "execution_count": 2,
          "metadata": {},
          "output_type": "execute_result"
        }
      ],
      "source": [
        "max([max(sequence) for sequence in train_data])"
      ]
    },
    {
      "cell_type": "markdown",
      "metadata": {
        "id": "lwfHYX-3coNd"
      },
      "source": [
        "### Check a review"
      ]
    },
    {
      "cell_type": "code",
      "execution_count": 3,
      "metadata": {
        "colab": {
          "base_uri": "https://localhost:8080/",
          "height": 103
        },
        "id": "Uvh4Gu8lNB2h",
        "outputId": "2ea410ea-b0c8-4ecc-d84d-da202c0c79ca"
      },
      "outputs": [
        {
          "data": {
            "text/plain": [
              "\"? this film was just brilliant casting location scenery story direction everyone's really suited the part they played and you could just imagine being there robert ? is an amazing actor and now the same being director ? father came from the same scottish island as myself so i loved the fact there was a real connection with this film the witty remarks throughout the film were great it was just brilliant so much that i bought the film as soon as it was released for ? and would recommend it to everyone to watch and the fly fishing was amazing really cried at the end it was so sad and you know what they say if you cry at a film it must have been good and this definitely was also ? to the two little boy's that played the ? of norman and paul they were just brilliant children are often left out of the ? list i think because the stars that play them all grown up are such a big profile for the whole film but these children are amazing and should be praised for what they have done don't you think the whole story was so lovely because it was true and was someone's life after all that was shared with us all\""
            ]
          },
          "execution_count": 3,
          "metadata": {},
          "output_type": "execute_result"
        }
      ],
      "source": [
        "# Convert numbered review to actual review\n",
        "\n",
        "word_index = imdb.get_word_index()\n",
        "reverse_word_index = dict([(value, key) for (key, value) in word_index.items()])\n",
        "decoded_review = ' '.join([reverse_word_index.get(i-3, '?') for i in train_data[0]])\n",
        "\n",
        "decoded_review"
      ]
    },
    {
      "cell_type": "markdown",
      "metadata": {
        "id": "Om6eDbaWcs4G"
      },
      "source": [
        "### Vectorize input data and labels"
      ]
    },
    {
      "cell_type": "code",
      "execution_count": 4,
      "metadata": {
        "id": "NNjv42qENI-N"
      },
      "outputs": [],
      "source": [
        "import numpy as np\n",
        "\n",
        "def vectorize_sequences(sequences, dimension=10000):\n",
        "    results = np.zeros((len(sequences), dimension))    # Creates an all zero matrix of shape (len(sequences),10K)\n",
        "    for i,sequence in enumerate(sequences):\n",
        "        results[i,sequence] = 1                        # Sets specific indices of results[i] to 1s\n",
        "    return results\n",
        "\n",
        "# Vectorize training Data\n",
        "X_train = vectorize_sequences(train_data)\n",
        "\n",
        "# Vectorize testing Data\n",
        "X_test = vectorize_sequences(test_data)"
      ]
    },
    {
      "cell_type": "code",
      "execution_count": 5,
      "metadata": {
        "colab": {
          "base_uri": "https://localhost:8080/"
        },
        "id": "syGGjgeAaiIM",
        "outputId": "f902751a-2bce-43d9-befc-d54a89b11e5c"
      },
      "outputs": [
        {
          "name": "stdout",
          "output_type": "stream",
          "text": [
            "(25000,)\n"
          ]
        },
        {
          "data": {
            "text/plain": [
              "array([1, 0, 0, ..., 0, 1, 0])"
            ]
          },
          "execution_count": 5,
          "metadata": {},
          "output_type": "execute_result"
        }
      ],
      "source": [
        "print(train_labels.shape)\n",
        "train_labels"
      ]
    },
    {
      "cell_type": "code",
      "execution_count": 6,
      "metadata": {
        "colab": {
          "base_uri": "https://localhost:8080/"
        },
        "id": "rgLZ0j7qaroM",
        "outputId": "60ce6343-cf8c-4bcb-96ef-d7c3f7b5e20c"
      },
      "outputs": [
        {
          "name": "stdout",
          "output_type": "stream",
          "text": [
            "(25000,)\n"
          ]
        },
        {
          "data": {
            "text/plain": [
              "array([0, 1, 1, ..., 0, 0, 0])"
            ]
          },
          "execution_count": 6,
          "metadata": {},
          "output_type": "execute_result"
        }
      ],
      "source": [
        "print(test_labels.shape)\n",
        "test_labels"
      ]
    },
    {
      "cell_type": "markdown",
      "metadata": {
        "id": "u45h8eflcw-V"
      },
      "source": [
        "### Distribution"
      ]
    },
    {
      "cell_type": "code",
      "execution_count": 7,
      "metadata": {
        "colab": {
          "base_uri": "https://localhost:8080/",
          "height": 320
        },
        "id": "UwVN10wxau-f",
        "outputId": "55578338-25ee-46ba-a419-6126e8ed6c7b"
      },
      "outputs": [
        {
          "name": "stdout",
          "output_type": "stream",
          "text": [
            "12500\n"
          ]
        },
        {
          "data": {
            "image/png": "[encoded data removed]",
            "text/plain": [
              "<Figure size 500x500 with 1 Axes>"
            ]
          },
          "metadata": {},
          "output_type": "display_data"
        }
      ],
      "source": [
        "import numpy as np\n",
        "import matplotlib.pyplot as plt\n",
        " \n",
        "fig = plt.figure(figsize=(5,5))\n",
        "colors = [\"lightgreen\",'coral']\n",
        "pos = 0\n",
        "neg = 0\n",
        "for x in train_labels:\n",
        "  if x==0:\n",
        "      neg=neg+1\n",
        "  else:\n",
        "      pos=pos+1\n",
        "ck=[]\n",
        "ck.append(pos)\n",
        "ck.append(neg)\n",
        "piechart = plt.pie(ck,labels=[\"Positive\",\"Negative\"],\n",
        "                 autopct ='%1.1f%%',\n",
        "                 shadow = True,\n",
        "                 colors = colors,\n",
        "                 startangle = 15,\n",
        "                 explode=(0, 0.05))\n",
        "print(pos)"
      ]
    },
    {
      "cell_type": "code",
      "execution_count": 8,
      "metadata": {
        "colab": {
          "base_uri": "https://localhost:8080/"
        },
        "id": "M_6OyFstNQ5Z",
        "outputId": "1a4fc081-ff97-438c-9a8d-498ad513cba4"
      },
      "outputs": [
        {
          "name": "stdout",
          "output_type": "stream",
          "text": [
            "(25000, 10000)\n"
          ]
        },
        {
          "data": {
            "text/plain": [
              "array([[0., 1., 1., ..., 0., 0., 0.],\n",
              "       [0., 1., 1., ..., 0., 0., 0.],\n",
              "       [0., 1., 1., ..., 0., 0., 0.],\n",
              "       ...,\n",
              "       [0., 1., 1., ..., 0., 0., 0.],\n",
              "       [0., 1., 1., ..., 0., 0., 0.],\n",
              "       [0., 1., 1., ..., 0., 0., 0.]])"
            ]
          },
          "execution_count": 8,
          "metadata": {},
          "output_type": "execute_result"
        }
      ],
      "source": [
        "print(X_train.shape)\n",
        "X_train"
      ]
    },
    {
      "cell_type": "code",
      "execution_count": 9,
      "metadata": {
        "id": "InZp-pIGNQ8L"
      },
      "outputs": [],
      "source": [
        "y_train = np.asarray(train_labels).astype('float32')\n",
        "y_test  = np.asarray(test_labels).astype('float32')"
      ]
    },
    {
      "cell_type": "code",
      "execution_count": 10,
      "metadata": {
        "colab": {
          "base_uri": "https://localhost:8080/"
        },
        "id": "nMZuv13sZIpm",
        "outputId": "55fde85a-e220-4e51-edde-2290a68ab4e0"
      },
      "outputs": [
        {
          "name": "stdout",
          "output_type": "stream",
          "text": [
            "(25000,)\n"
          ]
        },
        {
          "data": {
            "text/plain": [
              "array([0., 1., 1., ..., 0., 0., 0.], dtype=float32)"
            ]
          },
          "execution_count": 10,
          "metadata": {},
          "output_type": "execute_result"
        }
      ],
      "source": [
        "print(y_test.shape)\n",
        "y_test\n"
      ]
    },
    {
      "cell_type": "code",
      "execution_count": 11,
      "metadata": {
        "id": "668k815XN_mS"
      },
      "outputs": [],
      "source": [
        "from keras import models\n",
        "from keras import layers"
      ]
    },
    {
      "cell_type": "code",
      "execution_count": 12,
      "metadata": {
        "id": "ef7IdGUdN_pJ"
      },
      "outputs": [],
      "source": [
        "from tensorflow.keras import optimizers\n",
        "from keras import losses\n",
        "from keras import metrics"
      ]
    },
    {
      "cell_type": "code",
      "execution_count": 13,
      "metadata": {
        "id": "ox9zUmatN_s4"
      },
      "outputs": [],
      "source": [
        "# Input for Validation\n",
        "X_val = X_train[:5000]\n",
        "partial_X_train = X_train[5000:]\n",
        "\n",
        "# Labels for validation\n",
        "y_val = y_train[:5000]\n",
        "partial_y_train = y_train[5000:]"
      ]
    },
    {
      "cell_type": "markdown",
      "metadata": {
        "id": "PQEo6oK5eRSl"
      },
      "source": [
        "### Training Model"
      ]
    },
    {
      "cell_type": "code",
      "execution_count": 27,
      "metadata": {
        "colab": {
          "base_uri": "https://localhost:8080/"
        },
        "id": "Zbn0YxuARsXd",
        "outputId": "d3c6bf81-9373-436c-dcc9-ab01dfe895a7"
      },
      "outputs": [
        {
          "name": "stdout",
          "output_type": "stream",
          "text": [
            "\n",
            "-----------------------------------------\n",
            "\n",
            "Optimizer :  Adam_scratch \n",
            "\n",
            "Epoch 1/15\n"
          ]
        },
        {
          "name": "stderr",
          "output_type": "stream",
          "text": [
            "2022-12-02 15:46:19.368280: I tensorflow/core/grappler/optimizers/custom_graph_optimizer_registry.cc:114] Plugin optimizer for device_type GPU is enabled.\n"
          ]
        },
        {
          "name": "stdout",
          "output_type": "stream",
          "text": [
            "197/200 [============================>.] - ETA: 0s - loss: 0.3357 - binary_accuracy: 0.8562"
          ]
        },
        {
          "name": "stderr",
          "output_type": "stream",
          "text": [
            "2022-12-02 15:46:22.293791: I tensorflow/core/grappler/optimizers/custom_graph_optimizer_registry.cc:114] Plugin optimizer for device_type GPU is enabled.\n"
          ]
        },
        {
          "name": "stdout",
          "output_type": "stream",
          "text": [
            "200/200 [==============================] - 5s 16ms/step - loss: 0.3348 - binary_accuracy: 0.8566 - val_loss: 0.2753 - val_binary_accuracy: 0.8850\n",
            "Epoch 2/15\n",
            "200/200 [==============================] - 3s 15ms/step - loss: 0.1637 - binary_accuracy: 0.9362 - val_loss: 0.3248 - val_binary_accuracy: 0.8758\n",
            "Epoch 3/15\n",
            "200/200 [==============================] - 3s 14ms/step - loss: 0.1069 - binary_accuracy: 0.9577 - val_loss: 0.3907 - val_binary_accuracy: 0.8724\n",
            "Epoch 4/15\n",
            "200/200 [==============================] - 3s 13ms/step - loss: 0.0667 - binary_accuracy: 0.9737 - val_loss: 0.5503 - val_binary_accuracy: 0.8674\n",
            "Epoch 5/15\n",
            "200/200 [==============================] - 3s 13ms/step - loss: 0.0571 - binary_accuracy: 0.9775 - val_loss: 0.6509 - val_binary_accuracy: 0.8662\n",
            "Epoch 6/15\n",
            "200/200 [==============================] - 3s 13ms/step - loss: 0.0391 - binary_accuracy: 0.9863 - val_loss: 0.7006 - val_binary_accuracy: 0.8628\n",
            "Epoch 7/15\n",
            "200/200 [==============================] - 2s 12ms/step - loss: 0.0291 - binary_accuracy: 0.9902 - val_loss: 0.8173 - val_binary_accuracy: 0.8652\n",
            "Epoch 8/15\n",
            "200/200 [==============================] - 3s 13ms/step - loss: 0.0279 - binary_accuracy: 0.9903 - val_loss: 0.8830 - val_binary_accuracy: 0.8640\n",
            "Epoch 9/15\n",
            "200/200 [==============================] - 3s 13ms/step - loss: 0.0250 - binary_accuracy: 0.9914 - val_loss: 0.8420 - val_binary_accuracy: 0.8664\n",
            "Epoch 10/15\n",
            "200/200 [==============================] - 3s 14ms/step - loss: 0.0204 - binary_accuracy: 0.9932 - val_loss: 0.9546 - val_binary_accuracy: 0.8654\n",
            "Epoch 11/15\n",
            "200/200 [==============================] - 3s 13ms/step - loss: 0.0172 - binary_accuracy: 0.9942 - val_loss: 0.9449 - val_binary_accuracy: 0.8642\n",
            "Epoch 12/15\n",
            "200/200 [==============================] - 3s 13ms/step - loss: 0.0106 - binary_accuracy: 0.9972 - val_loss: 1.1151 - val_binary_accuracy: 0.8606\n",
            "Epoch 13/15\n",
            "200/200 [==============================] - 3s 13ms/step - loss: 0.0195 - binary_accuracy: 0.9943 - val_loss: 0.9790 - val_binary_accuracy: 0.8646\n",
            "Epoch 14/15\n",
            "200/200 [==============================] - 3s 13ms/step - loss: 0.0145 - binary_accuracy: 0.9950 - val_loss: 0.9703 - val_binary_accuracy: 0.8632\n",
            "Epoch 15/15\n",
            "200/200 [==============================] - 2s 12ms/step - loss: 0.0062 - binary_accuracy: 0.9985 - val_loss: 1.2140 - val_binary_accuracy: 0.8658\n",
            "\n",
            "-----------------------------------------\n",
            "\n",
            "\n",
            "-----------------------------------------\n",
            "\n",
            "Optimizer :  RMSprop \n",
            "\n"
          ]
        },
        {
          "name": "stderr",
          "output_type": "stream",
          "text": [
            "/Users/priyanshul/miniconda/envs/SMAI/lib/python3.10/site-packages/keras/optimizers/optimizer_v2/rmsprop.py:140: UserWarning: The `lr` argument is deprecated, use `learning_rate` instead.\n",
            "  super().__init__(name, **kwargs)\n"
          ]
        },
        {
          "name": "stdout",
          "output_type": "stream",
          "text": [
            "Epoch 1/15\n"
          ]
        },
        {
          "name": "stderr",
          "output_type": "stream",
          "text": [
            "2022-12-02 15:47:01.681912: I tensorflow/core/grappler/optimizers/custom_graph_optimizer_registry.cc:114] Plugin optimizer for device_type GPU is enabled.\n"
          ]
        },
        {
          "name": "stdout",
          "output_type": "stream",
          "text": [
            "199/200 [============================>.] - ETA: 0s - loss: 0.3669 - binary_accuracy: 0.8399"
          ]
        },
        {
          "name": "stderr",
          "output_type": "stream",
          "text": [
            "2022-12-02 15:47:04.878857: I tensorflow/core/grappler/optimizers/custom_graph_optimizer_registry.cc:114] Plugin optimizer for device_type GPU is enabled.\n"
          ]
        },
        {
          "name": "stdout",
          "output_type": "stream",
          "text": [
            "200/200 [==============================] - 4s 17ms/step - loss: 0.3670 - binary_accuracy: 0.8400 - val_loss: 0.2873 - val_binary_accuracy: 0.8866\n",
            "Epoch 2/15\n",
            "200/200 [==============================] - 3s 16ms/step - loss: 0.2048 - binary_accuracy: 0.9206 - val_loss: 0.2914 - val_binary_accuracy: 0.8858\n",
            "Epoch 3/15\n",
            "200/200 [==============================] - 4s 18ms/step - loss: 0.1449 - binary_accuracy: 0.9446 - val_loss: 0.3336 - val_binary_accuracy: 0.8854\n",
            "Epoch 4/15\n",
            "200/200 [==============================] - 3s 15ms/step - loss: 0.1033 - binary_accuracy: 0.9628 - val_loss: 0.4015 - val_binary_accuracy: 0.8794\n",
            "Epoch 5/15\n",
            "200/200 [==============================] - 3s 15ms/step - loss: 0.0717 - binary_accuracy: 0.9740 - val_loss: 0.5835 - val_binary_accuracy: 0.8800\n",
            "Epoch 6/15\n",
            "200/200 [==============================] - 3s 15ms/step - loss: 0.0501 - binary_accuracy: 0.9819 - val_loss: 0.6980 - val_binary_accuracy: 0.8742\n",
            "Epoch 7/15\n",
            "200/200 [==============================] - 3s 15ms/step - loss: 0.0342 - binary_accuracy: 0.9870 - val_loss: 1.0094 - val_binary_accuracy: 0.8742\n",
            "Epoch 8/15\n",
            "200/200 [==============================] - 3s 16ms/step - loss: 0.0286 - binary_accuracy: 0.9902 - val_loss: 1.0447 - val_binary_accuracy: 0.8770\n",
            "Epoch 9/15\n",
            "200/200 [==============================] - 3s 15ms/step - loss: 0.0218 - binary_accuracy: 0.9923 - val_loss: 1.3786 - val_binary_accuracy: 0.8720\n",
            "Epoch 10/15\n",
            "200/200 [==============================] - 3s 15ms/step - loss: 0.0230 - binary_accuracy: 0.9931 - val_loss: 1.3136 - val_binary_accuracy: 0.8718\n",
            "Epoch 11/15\n",
            "200/200 [==============================] - 3s 15ms/step - loss: 0.0155 - binary_accuracy: 0.9940 - val_loss: 1.5291 - val_binary_accuracy: 0.8714\n",
            "Epoch 12/15\n",
            "200/200 [==============================] - 3s 15ms/step - loss: 0.0196 - binary_accuracy: 0.9950 - val_loss: 1.4967 - val_binary_accuracy: 0.8706\n",
            "Epoch 13/15\n",
            "200/200 [==============================] - 3s 15ms/step - loss: 0.0189 - binary_accuracy: 0.9948 - val_loss: 1.3887 - val_binary_accuracy: 0.8656\n",
            "Epoch 14/15\n",
            "200/200 [==============================] - 3s 14ms/step - loss: 0.0135 - binary_accuracy: 0.9950 - val_loss: 1.8503 - val_binary_accuracy: 0.8594\n",
            "Epoch 15/15\n",
            "200/200 [==============================] - 3s 16ms/step - loss: 0.0170 - binary_accuracy: 0.9946 - val_loss: 1.7204 - val_binary_accuracy: 0.8676\n",
            "\n",
            "-----------------------------------------\n",
            "\n",
            "\n",
            "-----------------------------------------\n",
            "\n",
            "Optimizer :  Adam \n",
            "\n",
            "Epoch 1/15\n"
          ]
        },
        {
          "name": "stderr",
          "output_type": "stream",
          "text": [
            "2022-12-02 15:47:49.940149: I tensorflow/core/grappler/optimizers/custom_graph_optimizer_registry.cc:114] Plugin optimizer for device_type GPU is enabled.\n"
          ]
        },
        {
          "name": "stdout",
          "output_type": "stream",
          "text": [
            "196/200 [============================>.] - ETA: 0s - loss: 0.3270 - binary_accuracy: 0.8609"
          ]
        },
        {
          "name": "stderr",
          "output_type": "stream",
          "text": [
            "2022-12-02 15:47:52.808594: I tensorflow/core/grappler/optimizers/custom_graph_optimizer_registry.cc:114] Plugin optimizer for device_type GPU is enabled.\n"
          ]
        },
        {
          "name": "stdout",
          "output_type": "stream",
          "text": [
            "200/200 [==============================] - 4s 16ms/step - loss: 0.3254 - binary_accuracy: 0.8616 - val_loss: 0.2781 - val_binary_accuracy: 0.8816\n",
            "Epoch 2/15\n",
            "200/200 [==============================] - 3s 13ms/step - loss: 0.1578 - binary_accuracy: 0.9362 - val_loss: 0.3148 - val_binary_accuracy: 0.8824\n",
            "Epoch 3/15\n",
            "200/200 [==============================] - 3s 13ms/step - loss: 0.0874 - binary_accuracy: 0.9665 - val_loss: 0.4367 - val_binary_accuracy: 0.8684\n",
            "Epoch 4/15\n",
            "200/200 [==============================] - 3s 13ms/step - loss: 0.0654 - binary_accuracy: 0.9748 - val_loss: 0.4956 - val_binary_accuracy: 0.8704\n",
            "Epoch 5/15\n",
            "200/200 [==============================] - 3s 13ms/step - loss: 0.0431 - binary_accuracy: 0.9835 - val_loss: 0.6403 - val_binary_accuracy: 0.8710\n",
            "Epoch 6/15\n",
            "200/200 [==============================] - 2s 12ms/step - loss: 0.0288 - binary_accuracy: 0.9881 - val_loss: 0.6804 - val_binary_accuracy: 0.8660\n",
            "Epoch 7/15\n",
            "200/200 [==============================] - 3s 13ms/step - loss: 0.0198 - binary_accuracy: 0.9918 - val_loss: 0.8994 - val_binary_accuracy: 0.8660\n",
            "Epoch 8/15\n",
            "200/200 [==============================] - 3s 13ms/step - loss: 0.0217 - binary_accuracy: 0.9916 - val_loss: 0.8673 - val_binary_accuracy: 0.8642\n",
            "Epoch 9/15\n",
            "200/200 [==============================] - 3s 13ms/step - loss: 0.0234 - binary_accuracy: 0.9914 - val_loss: 0.8288 - val_binary_accuracy: 0.8718\n",
            "Epoch 10/15\n",
            "200/200 [==============================] - 3s 13ms/step - loss: 0.0191 - binary_accuracy: 0.9927 - val_loss: 0.9050 - val_binary_accuracy: 0.8606\n",
            "Epoch 11/15\n",
            "200/200 [==============================] - 2s 12ms/step - loss: 0.0101 - binary_accuracy: 0.9958 - val_loss: 1.1229 - val_binary_accuracy: 0.8620\n",
            "Epoch 12/15\n",
            "200/200 [==============================] - 2s 11ms/step - loss: 0.0152 - binary_accuracy: 0.9944 - val_loss: 1.0769 - val_binary_accuracy: 0.8664\n",
            "Epoch 13/15\n",
            "200/200 [==============================] - 3s 15ms/step - loss: 0.0128 - binary_accuracy: 0.9946 - val_loss: 1.1336 - val_binary_accuracy: 0.8584\n",
            "Epoch 14/15\n",
            "200/200 [==============================] - 2s 12ms/step - loss: 0.0160 - binary_accuracy: 0.9945 - val_loss: 1.0482 - val_binary_accuracy: 0.8610\n",
            "Epoch 15/15\n",
            "200/200 [==============================] - 2s 12ms/step - loss: 0.0106 - binary_accuracy: 0.9960 - val_loss: 1.0763 - val_binary_accuracy: 0.8672\n",
            "\n",
            "-----------------------------------------\n",
            "\n",
            "\n",
            "-----------------------------------------\n",
            "\n",
            "Optimizer :  SGD \n",
            "\n"
          ]
        },
        {
          "name": "stderr",
          "output_type": "stream",
          "text": [
            "/Users/priyanshul/miniconda/envs/SMAI/lib/python3.10/site-packages/keras/optimizers/optimizer_v2/gradient_descent.py:111: UserWarning: The `lr` argument is deprecated, use `learning_rate` instead.\n",
            "  super().__init__(name, **kwargs)\n"
          ]
        },
        {
          "name": "stdout",
          "output_type": "stream",
          "text": [
            "Epoch 1/15\n",
            "  1/200 [..............................] - ETA: 1:11 - loss: 0.7076 - binary_accuracy: 0.4200"
          ]
        },
        {
          "name": "stderr",
          "output_type": "stream",
          "text": [
            "2022-12-02 15:48:30.517136: I tensorflow/core/grappler/optimizers/custom_graph_optimizer_registry.cc:114] Plugin optimizer for device_type GPU is enabled.\n"
          ]
        },
        {
          "name": "stdout",
          "output_type": "stream",
          "text": [
            "197/200 [============================>.] - ETA: 0s - loss: 0.6808 - binary_accuracy: 0.5406"
          ]
        },
        {
          "name": "stderr",
          "output_type": "stream",
          "text": [
            "2022-12-02 15:48:33.672566: I tensorflow/core/grappler/optimizers/custom_graph_optimizer_registry.cc:114] Plugin optimizer for device_type GPU is enabled.\n"
          ]
        },
        {
          "name": "stdout",
          "output_type": "stream",
          "text": [
            "200/200 [==============================] - 4s 17ms/step - loss: 0.6804 - binary_accuracy: 0.5422 - val_loss: 0.6630 - val_binary_accuracy: 0.6054\n",
            "Epoch 2/15\n",
            "200/200 [==============================] - 2s 12ms/step - loss: 0.6204 - binary_accuracy: 0.7050 - val_loss: 0.5902 - val_binary_accuracy: 0.7152\n",
            "Epoch 3/15\n",
            "200/200 [==============================] - 2s 12ms/step - loss: 0.5326 - binary_accuracy: 0.8005 - val_loss: 0.4980 - val_binary_accuracy: 0.8126\n",
            "Epoch 4/15\n",
            "200/200 [==============================] - 3s 14ms/step - loss: 0.4457 - binary_accuracy: 0.8364 - val_loss: 0.4247 - val_binary_accuracy: 0.8306\n",
            "Epoch 5/15\n",
            "200/200 [==============================] - 3s 13ms/step - loss: 0.3800 - binary_accuracy: 0.8553 - val_loss: 0.3748 - val_binary_accuracy: 0.8476\n",
            "Epoch 6/15\n",
            "200/200 [==============================] - 2s 12ms/step - loss: 0.3366 - binary_accuracy: 0.8672 - val_loss: 0.3457 - val_binary_accuracy: 0.8614\n",
            "Epoch 7/15\n",
            "200/200 [==============================] - 2s 12ms/step - loss: 0.3070 - binary_accuracy: 0.8788 - val_loss: 0.3284 - val_binary_accuracy: 0.8650\n",
            "Epoch 8/15\n",
            "200/200 [==============================] - 2s 11ms/step - loss: 0.2860 - binary_accuracy: 0.8856 - val_loss: 0.3173 - val_binary_accuracy: 0.8706\n",
            "Epoch 9/15\n",
            "200/200 [==============================] - 2s 11ms/step - loss: 0.2689 - binary_accuracy: 0.8943 - val_loss: 0.3093 - val_binary_accuracy: 0.8766\n",
            "Epoch 10/15\n",
            "200/200 [==============================] - 2s 12ms/step - loss: 0.2551 - binary_accuracy: 0.9013 - val_loss: 0.3066 - val_binary_accuracy: 0.8764\n",
            "Epoch 11/15\n",
            "200/200 [==============================] - 2s 12ms/step - loss: 0.2428 - binary_accuracy: 0.9072 - val_loss: 0.2990 - val_binary_accuracy: 0.8832\n",
            "Epoch 12/15\n",
            "200/200 [==============================] - 3s 13ms/step - loss: 0.2311 - binary_accuracy: 0.9123 - val_loss: 0.2966 - val_binary_accuracy: 0.8842\n",
            "Epoch 13/15\n",
            "200/200 [==============================] - 3s 14ms/step - loss: 0.2217 - binary_accuracy: 0.9168 - val_loss: 0.2946 - val_binary_accuracy: 0.8842\n",
            "Epoch 14/15\n",
            "200/200 [==============================] - 2s 12ms/step - loss: 0.2127 - binary_accuracy: 0.9203 - val_loss: 0.2936 - val_binary_accuracy: 0.8832\n",
            "Epoch 15/15\n",
            "200/200 [==============================] - 2s 11ms/step - loss: 0.2042 - binary_accuracy: 0.9255 - val_loss: 0.3031 - val_binary_accuracy: 0.8748\n",
            "\n",
            "-----------------------------------------\n",
            "\n",
            "\n",
            "-----------------------------------------\n",
            "\n",
            "Optimizer :  Adadelta \n",
            "\n",
            "Epoch 1/15\n"
          ]
        },
        {
          "name": "stderr",
          "output_type": "stream",
          "text": [
            "2022-12-02 15:49:09.976882: I tensorflow/core/grappler/optimizers/custom_graph_optimizer_registry.cc:114] Plugin optimizer for device_type GPU is enabled.\n"
          ]
        },
        {
          "name": "stdout",
          "output_type": "stream",
          "text": [
            "199/200 [============================>.] - ETA: 0s - loss: 0.6926 - binary_accuracy: 0.5057"
          ]
        },
        {
          "name": "stderr",
          "output_type": "stream",
          "text": [
            "2022-12-02 15:49:13.268316: I tensorflow/core/grappler/optimizers/custom_graph_optimizer_registry.cc:114] Plugin optimizer for device_type GPU is enabled.\n"
          ]
        },
        {
          "name": "stdout",
          "output_type": "stream",
          "text": [
            "200/200 [==============================] - 4s 18ms/step - loss: 0.6926 - binary_accuracy: 0.5056 - val_loss: 0.6911 - val_binary_accuracy: 0.5092\n",
            "Epoch 2/15\n",
            "200/200 [==============================] - 3s 13ms/step - loss: 0.6880 - binary_accuracy: 0.5267 - val_loss: 0.6863 - val_binary_accuracy: 0.5270\n",
            "Epoch 3/15\n",
            "200/200 [==============================] - 3s 15ms/step - loss: 0.6812 - binary_accuracy: 0.5507 - val_loss: 0.6787 - val_binary_accuracy: 0.5570\n",
            "Epoch 4/15\n",
            "200/200 [==============================] - 3s 17ms/step - loss: 0.6714 - binary_accuracy: 0.5854 - val_loss: 0.6681 - val_binary_accuracy: 0.6044\n",
            "Epoch 5/15\n",
            "200/200 [==============================] - 2s 12ms/step - loss: 0.6586 - binary_accuracy: 0.6390 - val_loss: 0.6545 - val_binary_accuracy: 0.6704\n",
            "Epoch 6/15\n",
            "200/200 [==============================] - 3s 14ms/step - loss: 0.6428 - binary_accuracy: 0.6990 - val_loss: 0.6377 - val_binary_accuracy: 0.7278\n",
            "Epoch 7/15\n",
            "200/200 [==============================] - 3s 14ms/step - loss: 0.6240 - binary_accuracy: 0.7498 - val_loss: 0.6183 - val_binary_accuracy: 0.7622\n",
            "Epoch 8/15\n",
            "200/200 [==============================] - 3s 13ms/step - loss: 0.6029 - binary_accuracy: 0.7840 - val_loss: 0.5972 - val_binary_accuracy: 0.7824\n",
            "Epoch 9/15\n",
            "200/200 [==============================] - 2s 12ms/step - loss: 0.5804 - binary_accuracy: 0.8049 - val_loss: 0.5751 - val_binary_accuracy: 0.8006\n",
            "Epoch 10/15\n",
            "200/200 [==============================] - 2s 12ms/step - loss: 0.5574 - binary_accuracy: 0.8211 - val_loss: 0.5535 - val_binary_accuracy: 0.8118\n",
            "Epoch 11/15\n",
            "200/200 [==============================] - 3s 13ms/step - loss: 0.5350 - binary_accuracy: 0.8319 - val_loss: 0.5324 - val_binary_accuracy: 0.8202\n",
            "Epoch 12/15\n",
            "200/200 [==============================] - 2s 12ms/step - loss: 0.5131 - binary_accuracy: 0.8428 - val_loss: 0.5119 - val_binary_accuracy: 0.8260\n",
            "Epoch 13/15\n",
            "200/200 [==============================] - 3s 13ms/step - loss: 0.4915 - binary_accuracy: 0.8493 - val_loss: 0.4914 - val_binary_accuracy: 0.8320\n",
            "Epoch 14/15\n",
            "200/200 [==============================] - 5s 27ms/step - loss: 0.4696 - binary_accuracy: 0.8550 - val_loss: 0.4715 - val_binary_accuracy: 0.8366\n",
            "Epoch 15/15\n",
            "200/200 [==============================] - 4s 18ms/step - loss: 0.4494 - binary_accuracy: 0.8588 - val_loss: 0.4541 - val_binary_accuracy: 0.8394\n",
            "\n",
            "-----------------------------------------\n",
            "\n",
            "\n",
            "-----------------------------------------\n",
            "\n",
            "Optimizer :  AdaGrad_scratch \n",
            "\n",
            "Epoch 1/15\n"
          ]
        },
        {
          "name": "stderr",
          "output_type": "stream",
          "text": [
            "2022-12-02 15:49:56.807289: I tensorflow/core/grappler/optimizers/custom_graph_optimizer_registry.cc:114] Plugin optimizer for device_type GPU is enabled.\n"
          ]
        },
        {
          "name": "stdout",
          "output_type": "stream",
          "text": [
            "199/200 [============================>.] - ETA: 0s - loss: 0.6225 - binary_accuracy: 0.6911"
          ]
        },
        {
          "name": "stderr",
          "output_type": "stream",
          "text": [
            "2022-12-02 15:50:00.966340: I tensorflow/core/grappler/optimizers/custom_graph_optimizer_registry.cc:114] Plugin optimizer for device_type GPU is enabled.\n"
          ]
        },
        {
          "name": "stdout",
          "output_type": "stream",
          "text": [
            "200/200 [==============================] - 5s 25ms/step - loss: 0.6218 - binary_accuracy: 0.6919 - val_loss: 0.4955 - val_binary_accuracy: 0.8100\n",
            "Epoch 2/15\n",
            "200/200 [==============================] - 4s 18ms/step - loss: 0.4038 - binary_accuracy: 0.8457 - val_loss: 0.3588 - val_binary_accuracy: 0.8572\n",
            "Epoch 3/15\n",
            "200/200 [==============================] - 3s 16ms/step - loss: 0.3149 - binary_accuracy: 0.8736 - val_loss: 0.3180 - val_binary_accuracy: 0.8728\n",
            "Epoch 4/15\n",
            "200/200 [==============================] - 3s 13ms/step - loss: 0.2728 - binary_accuracy: 0.8928 - val_loss: 0.3003 - val_binary_accuracy: 0.8794\n",
            "Epoch 5/15\n",
            "200/200 [==============================] - 3s 14ms/step - loss: 0.2461 - binary_accuracy: 0.9043 - val_loss: 0.2937 - val_binary_accuracy: 0.8820\n",
            "Epoch 6/15\n",
            "200/200 [==============================] - 3s 15ms/step - loss: 0.2255 - binary_accuracy: 0.9148 - val_loss: 0.2873 - val_binary_accuracy: 0.8832\n",
            "Epoch 7/15\n",
            "200/200 [==============================] - 3s 14ms/step - loss: 0.2086 - binary_accuracy: 0.9234 - val_loss: 0.2841 - val_binary_accuracy: 0.8860\n",
            "Epoch 8/15\n",
            "200/200 [==============================] - 4s 18ms/step - loss: 0.1946 - binary_accuracy: 0.9300 - val_loss: 0.2845 - val_binary_accuracy: 0.8858\n",
            "Epoch 9/15\n",
            "200/200 [==============================] - 3s 15ms/step - loss: 0.1825 - binary_accuracy: 0.9344 - val_loss: 0.2858 - val_binary_accuracy: 0.8878\n",
            "Epoch 10/15\n",
            "200/200 [==============================] - 2s 11ms/step - loss: 0.1710 - binary_accuracy: 0.9408 - val_loss: 0.2873 - val_binary_accuracy: 0.8872\n",
            "Epoch 11/15\n",
            "200/200 [==============================] - 2s 11ms/step - loss: 0.1610 - binary_accuracy: 0.9451 - val_loss: 0.2911 - val_binary_accuracy: 0.8870\n",
            "Epoch 12/15\n",
            "200/200 [==============================] - 2s 12ms/step - loss: 0.1522 - binary_accuracy: 0.9486 - val_loss: 0.2940 - val_binary_accuracy: 0.8862\n",
            "Epoch 13/15\n",
            "200/200 [==============================] - 3s 14ms/step - loss: 0.1439 - binary_accuracy: 0.9517 - val_loss: 0.2966 - val_binary_accuracy: 0.8872\n",
            "Epoch 14/15\n",
            "200/200 [==============================] - 2s 12ms/step - loss: 0.1358 - binary_accuracy: 0.9560 - val_loss: 0.3022 - val_binary_accuracy: 0.8850\n",
            "Epoch 15/15\n",
            "200/200 [==============================] - 3s 15ms/step - loss: 0.1284 - binary_accuracy: 0.9592 - val_loss: 0.3064 - val_binary_accuracy: 0.8878\n",
            "\n",
            "-----------------------------------------\n",
            "\n",
            "\n",
            "-----------------------------------------\n",
            "\n",
            "Optimizer :  AdaDelta_scratch \n",
            "\n",
            "Epoch 1/15\n"
          ]
        },
        {
          "name": "stderr",
          "output_type": "stream",
          "text": [
            "2022-12-02 15:50:43.372759: I tensorflow/core/grappler/optimizers/custom_graph_optimizer_registry.cc:114] Plugin optimizer for device_type GPU is enabled.\n"
          ]
        },
        {
          "name": "stdout",
          "output_type": "stream",
          "text": [
            "196/200 [============================>.] - ETA: 0s - loss: 0.6913 - binary_accuracy: 0.5257"
          ]
        },
        {
          "name": "stderr",
          "output_type": "stream",
          "text": [
            "2022-12-02 15:50:46.295953: I tensorflow/core/grappler/optimizers/custom_graph_optimizer_registry.cc:114] Plugin optimizer for device_type GPU is enabled.\n"
          ]
        },
        {
          "name": "stdout",
          "output_type": "stream",
          "text": [
            "200/200 [==============================] - 4s 16ms/step - loss: 0.6912 - binary_accuracy: 0.5265 - val_loss: 0.6871 - val_binary_accuracy: 0.5586\n",
            "Epoch 2/15\n",
            "200/200 [==============================] - 2s 11ms/step - loss: 0.6786 - binary_accuracy: 0.6113 - val_loss: 0.6715 - val_binary_accuracy: 0.6440\n",
            "Epoch 3/15\n",
            "200/200 [==============================] - 3s 13ms/step - loss: 0.6569 - binary_accuracy: 0.6879 - val_loss: 0.6477 - val_binary_accuracy: 0.7004\n",
            "Epoch 4/15\n",
            "200/200 [==============================] - 2s 11ms/step - loss: 0.6294 - binary_accuracy: 0.7424 - val_loss: 0.6206 - val_binary_accuracy: 0.7484\n",
            "Epoch 5/15\n",
            "200/200 [==============================] - 2s 12ms/step - loss: 0.6003 - binary_accuracy: 0.7825 - val_loss: 0.5929 - val_binary_accuracy: 0.7768\n",
            "Epoch 6/15\n",
            "200/200 [==============================] - 2s 11ms/step - loss: 0.5711 - binary_accuracy: 0.8048 - val_loss: 0.5659 - val_binary_accuracy: 0.7958\n",
            "Epoch 7/15\n",
            "200/200 [==============================] - 2s 11ms/step - loss: 0.5433 - binary_accuracy: 0.8237 - val_loss: 0.5408 - val_binary_accuracy: 0.8072\n",
            "Epoch 8/15\n",
            "200/200 [==============================] - 2s 11ms/step - loss: 0.5174 - binary_accuracy: 0.8355 - val_loss: 0.5174 - val_binary_accuracy: 0.8174\n",
            "Epoch 9/15\n",
            "200/200 [==============================] - 2s 11ms/step - loss: 0.4937 - binary_accuracy: 0.8435 - val_loss: 0.4964 - val_binary_accuracy: 0.8244\n",
            "Epoch 10/15\n",
            "200/200 [==============================] - 2s 12ms/step - loss: 0.4720 - binary_accuracy: 0.8507 - val_loss: 0.4769 - val_binary_accuracy: 0.8330\n",
            "Epoch 11/15\n",
            "200/200 [==============================] - 2s 11ms/step - loss: 0.4523 - binary_accuracy: 0.8567 - val_loss: 0.4595 - val_binary_accuracy: 0.8404\n",
            "Epoch 12/15\n",
            "200/200 [==============================] - 3s 13ms/step - loss: 0.4344 - binary_accuracy: 0.8614 - val_loss: 0.4439 - val_binary_accuracy: 0.8446\n",
            "Epoch 13/15\n",
            "200/200 [==============================] - 3s 13ms/step - loss: 0.4183 - binary_accuracy: 0.8653 - val_loss: 0.4299 - val_binary_accuracy: 0.8458\n",
            "Epoch 14/15\n",
            "200/200 [==============================] - 3s 16ms/step - loss: 0.4036 - binary_accuracy: 0.8693 - val_loss: 0.4170 - val_binary_accuracy: 0.8480\n",
            "Epoch 15/15\n",
            "200/200 [==============================] - 5s 26ms/step - loss: 0.3902 - binary_accuracy: 0.8730 - val_loss: 0.4055 - val_binary_accuracy: 0.8520\n",
            "\n",
            "-----------------------------------------\n",
            "\n",
            "{'Adam_scratch': [0.33477798104286194, 0.1637456864118576, 0.10688021779060364, 0.06672362238168716, 0.05712044984102249, 0.039069388061761856, 0.02911859005689621, 0.02794724516570568, 0.025024032220244408, 0.020385412499308586, 0.017228811979293823, 0.010618622414767742, 0.019539091736078262, 0.014499837532639503, 0.006162900943309069], 'RMSprop': [0.3669973909854889, 0.20479649305343628, 0.14492057263851166, 0.10329028964042664, 0.07174582034349442, 0.05009596049785614, 0.03421041741967201, 0.028574394062161446, 0.021815165877342224, 0.022951915860176086, 0.015540382824838161, 0.01956518553197384, 0.018869351595640182, 0.013483258895576, 0.016988404095172882], 'Adam': [0.32540619373321533, 0.15781038999557495, 0.08744407445192337, 0.06541883945465088, 0.04310402646660805, 0.02883300930261612, 0.01975274085998535, 0.021702952682971954, 0.023430492728948593, 0.019080080091953278, 0.010118793696165085, 0.0151766836643219, 0.012783030979335308, 0.016029197722673416, 0.010624023154377937], 'SGD': [0.6803972721099854, 0.6203680634498596, 0.5326014757156372, 0.44573307037353516, 0.3799746334552765, 0.3365514576435089, 0.307029128074646, 0.2860344350337982, 0.26891574263572693, 0.25513091683387756, 0.2428167164325714, 0.2310580164194107, 0.22173406183719635, 0.21274559199810028, 0.2041538804769516], 'Adadelta': [0.6925960183143616, 0.6879887580871582, 0.681185781955719, 0.6713840365409851, 0.6585984230041504, 0.6427586674690247, 0.6239994168281555, 0.6029275059700012, 0.5803669095039368, 0.5574427247047424, 0.5350385308265686, 0.5131424069404602, 0.49148455262184143, 0.4695531129837036, 0.4494064152240753], 'AdaGrad_scratch': [0.6218298673629761, 0.403814435005188, 0.31489476561546326, 0.2728155255317688, 0.24605388939380646, 0.22548912465572357, 0.20862029492855072, 0.19459310173988342, 0.1825200468301773, 0.17104946076869965, 0.16097211837768555, 0.15224230289459229, 0.14387089014053345, 0.135757178068161, 0.12842348217964172], 'AdaDelta_scratch': [0.6912332773208618, 0.6786112189292908, 0.6568701863288879, 0.6293755173683167, 0.6002523899078369, 0.5711118578910828, 0.5433357357978821, 0.5174336433410645, 0.4937135875225067, 0.4720400273799896, 0.4523228704929352, 0.4344492256641388, 0.4183194935321808, 0.4035893976688385, 0.3902072012424469]}\n"
          ]
        }
      ],
      "source": [
        "trainingLoss = {}\n",
        "from tensorflow import keras\n",
        "from optimizers.ADAM import ADAM\n",
        "from optimizers.opts import AdaDelta, Momentum, AdaGrad\n",
        "\n",
        "def trainDifOptimizer(optmzr):\n",
        "    # torch.manual_seed(seed)\n",
        "    model = models.Sequential()\n",
        "    model.add(layers.Dense(20, activation='relu', input_shape=(10000,)))\n",
        "    model.add(layers.Dense(20, activation='relu'))\n",
        "    model.add(layers.Dense(1, activation='sigmoid'))\n",
        "    optimizer = None\n",
        "    if optmzr=='Adam_scratch':\n",
        "      optimizer = getattr(optimizers,\"Adam\")(lr=0.01) \n",
        "    elif optmzr=='AdaDelta_scratch':\n",
        "      optimizer = getattr(optimizers,\"Adadelta\")(lr=0.01)\n",
        "    elif optmzr=='Momentum_scratch':\n",
        "      optimizer = getattr(optimizers,\"momentum\")(lr=0.01)\n",
        "    elif optmzr=='AdaGrad_scratch':\n",
        "      optimizer = getattr(optimizers,\"Adagrad\")(lr=0.01)\n",
        "    else:\n",
        "      optimizer = getattr(optimizers, optmzr)(lr=0.01)\n",
        "    \n",
        "    model.compile(optimizer=optimizer,\n",
        "              loss = losses.binary_crossentropy,\n",
        "              metrics = [metrics.binary_accuracy])\n",
        "    n_epochs = 15 \n",
        "\n",
        "    trainLossForOptimizer = []\n",
        "    print(\"\\n-----------------------------------------\\n\")\n",
        "    print(\"Optimizer : \", optmzr, \"\\n\")\n",
        "    history = model.fit(partial_X_train,\n",
        "                partial_y_train,\n",
        "                epochs=15,\n",
        "                batch_size=100,\n",
        "                validation_data=(X_val, y_val))\n",
        "\n",
        "    trainingLoss[optmzr] = history.history['loss']\n",
        "    print(\"\\n-----------------------------------------\\n\")\n",
        "\n",
        "optimizersLst = ['Adam_scratch','RMSprop','Adam', 'SGD','Adadelta','AdaGrad_scratch','AdaDelta_scratch',]\n",
        "# optimizersLst = ['Adam_scratch','AdaGrad_scratch','AdaDelta_scratch','Momentum_scratch']\n",
        "for optmzr in optimizersLst:\n",
        "    trainDifOptimizer(optmzr)\n",
        "\n",
        "print(trainingLoss)"
      ]
    },
    {
      "cell_type": "code",
      "execution_count": 15,
      "metadata": {
        "id": "pU4NjKZJN_ze"
      },
      "outputs": [],
      "source": [
        "import matplotlib.pyplot as plt\n",
        "%matplotlib inline"
      ]
    },
    {
      "cell_type": "code",
      "execution_count": 16,
      "metadata": {
        "colab": {
          "base_uri": "https://localhost:8080/",
          "height": 295
        },
        "id": "H7D7U_mPN_2I",
        "outputId": "9ce762e3-e624-4c4a-d624-2b597eb9f441"
      },
      "outputs": [
        {
          "data": {
            "image/png": "[encoded data removed]",
            "text/plain": [
              "<Figure size 640x480 with 1 Axes>"
            ]
          },
          "metadata": {},
          "output_type": "display_data"
        }
      ],
      "source": [
        "# Plotting losses\n",
        "Xval = np.arange(1, 16)\n",
        "\n",
        "plt.xlabel(\"Epoch\")  # add X-axis label\n",
        "plt.ylabel(\"Training Loss\")  # add Y-axis label\n",
        "plt.title(\"Logistic Regression on IMDB with different optimizers\")  # add title\n",
        "\n",
        "for key, value in trainingLoss.items():\n",
        "    plt.plot(Xval, value, label=key)\n",
        "\n",
        "plt.legend()\n",
        "plt.show()"
      ]
    },
    {
      "cell_type": "markdown",
      "metadata": {
        "id": "6DdW3Sb3dzvI"
      },
      "source": [
        "### Accuracy and Result"
      ]
    },
    {
      "cell_type": "code",
      "execution_count": 17,
      "metadata": {
        "colab": {
          "base_uri": "https://localhost:8080/"
        },
        "id": "U9GOj9bROhdq",
        "outputId": "2819ac69-dda8-4798-90c4-0d979ae26070"
      },
      "outputs": [
        {
          "name": "stdout",
          "output_type": "stream",
          "text": [
            "Epoch 1/15\n"
          ]
        },
        {
          "name": "stderr",
          "output_type": "stream",
          "text": [
            "2022-11-29 12:43:35.745500: I tensorflow/core/grappler/optimizers/custom_graph_optimizer_registry.cc:114] Plugin optimizer for device_type GPU is enabled.\n"
          ]
        },
        {
          "name": "stdout",
          "output_type": "stream",
          "text": [
            "198/200 [============================>.] - ETA: 0s - loss: 0.3557 - binary_accuracy: 0.8595"
          ]
        },
        {
          "name": "stderr",
          "output_type": "stream",
          "text": [
            "2022-11-29 12:43:41.840582: I tensorflow/core/grappler/optimizers/custom_graph_optimizer_registry.cc:114] Plugin optimizer for device_type GPU is enabled.\n"
          ]
        },
        {
          "name": "stdout",
          "output_type": "stream",
          "text": [
            "200/200 [==============================] - 8s 33ms/step - loss: 0.3552 - binary_accuracy: 0.8598 - val_loss: 0.2787 - val_binary_accuracy: 0.8890\n",
            "Epoch 2/15\n",
            "200/200 [==============================] - 6s 28ms/step - loss: 0.1805 - binary_accuracy: 0.9352 - val_loss: 0.2976 - val_binary_accuracy: 0.8858\n",
            "Epoch 3/15\n",
            "200/200 [==============================] - 5s 24ms/step - loss: 0.1246 - binary_accuracy: 0.9569 - val_loss: 0.3563 - val_binary_accuracy: 0.8802\n",
            "Epoch 4/15\n",
            "200/200 [==============================] - 5s 26ms/step - loss: 0.0854 - binary_accuracy: 0.9712 - val_loss: 0.4105 - val_binary_accuracy: 0.8748\n",
            "Epoch 5/15\n",
            "200/200 [==============================] - 5s 24ms/step - loss: 0.0535 - binary_accuracy: 0.9841 - val_loss: 0.4935 - val_binary_accuracy: 0.8726\n",
            "Epoch 6/15\n",
            "200/200 [==============================] - 4s 22ms/step - loss: 0.0295 - binary_accuracy: 0.9931 - val_loss: 0.5623 - val_binary_accuracy: 0.8722\n",
            "Epoch 7/15\n",
            "200/200 [==============================] - 4s 22ms/step - loss: 0.0153 - binary_accuracy: 0.9978 - val_loss: 0.6423 - val_binary_accuracy: 0.8696\n",
            "Epoch 8/15\n",
            "200/200 [==============================] - 4s 21ms/step - loss: 0.0065 - binary_accuracy: 0.9994 - val_loss: 0.7420 - val_binary_accuracy: 0.8680\n",
            "Epoch 9/15\n",
            "200/200 [==============================] - 4s 20ms/step - loss: 0.0024 - binary_accuracy: 0.9998 - val_loss: 0.8192 - val_binary_accuracy: 0.8706\n",
            "Epoch 10/15\n",
            "200/200 [==============================] - 4s 22ms/step - loss: 0.0012 - binary_accuracy: 0.9999 - val_loss: 0.8813 - val_binary_accuracy: 0.8702\n",
            "Epoch 11/15\n",
            "200/200 [==============================] - 4s 20ms/step - loss: 6.4624e-04 - binary_accuracy: 1.0000 - val_loss: 0.9568 - val_binary_accuracy: 0.8718\n",
            "Epoch 12/15\n",
            "200/200 [==============================] - 4s 22ms/step - loss: 4.0379e-04 - binary_accuracy: 1.0000 - val_loss: 1.0181 - val_binary_accuracy: 0.8710\n",
            "Epoch 13/15\n",
            "200/200 [==============================] - 4s 21ms/step - loss: 2.8542e-04 - binary_accuracy: 1.0000 - val_loss: 1.0684 - val_binary_accuracy: 0.8712\n",
            "Epoch 14/15\n",
            "200/200 [==============================] - 4s 21ms/step - loss: 2.1296e-04 - binary_accuracy: 1.0000 - val_loss: 1.1150 - val_binary_accuracy: 0.8706\n",
            "Epoch 15/15\n",
            "200/200 [==============================] - 4s 21ms/step - loss: 1.6550e-04 - binary_accuracy: 1.0000 - val_loss: 1.1586 - val_binary_accuracy: 0.8708\n",
            "  8/782 [..............................] - ETA: 11s"
          ]
        },
        {
          "name": "stderr",
          "output_type": "stream",
          "text": [
            "2022-11-29 12:44:48.627982: I tensorflow/core/grappler/optimizers/custom_graph_optimizer_registry.cc:114] Plugin optimizer for device_type GPU is enabled.\n"
          ]
        },
        {
          "name": "stdout",
          "output_type": "stream",
          "text": [
            "782/782 [==============================] - 7s 9ms/step\n"
          ]
        }
      ],
      "source": [
        "# Making Predictions for testing data\n",
        "\n",
        "model = models.Sequential()\n",
        "model.add(layers.Dense(20, activation='relu', input_shape=(10000,)))\n",
        "model.add(layers.Dense(20, activation='relu'))\n",
        "model.add(layers.Dense(1, activation='sigmoid'))\n",
        "model.compile(optimizer=\"Adam\",\n",
        "          loss = losses.binary_crossentropy,\n",
        "            metrics = [metrics.binary_accuracy])\n",
        "\n",
        "history = model.fit(partial_X_train,\n",
        "            partial_y_train,\n",
        "            epochs=15,\n",
        "            batch_size=100,\n",
        "            validation_data=(X_val, y_val))\n",
        "\n",
        "\n",
        "np.set_printoptions(suppress=True)\n",
        "result = model.predict(X_test)"
      ]
    },
    {
      "cell_type": "code",
      "execution_count": 18,
      "metadata": {
        "colab": {
          "base_uri": "https://localhost:8080/"
        },
        "id": "VOSK6a4-O9oS",
        "outputId": "57cf2c44-0a8c-40e3-f894-b5b2681ab111"
      },
      "outputs": [
        {
          "data": {
            "text/plain": [
              "array([[0.0003409 ],\n",
              "       [1.        ],\n",
              "       [0.00056419],\n",
              "       ...,\n",
              "       [0.00035609],\n",
              "       [0.0001714 ],\n",
              "       [0.9998851 ]], dtype=float32)"
            ]
          },
          "execution_count": 18,
          "metadata": {},
          "output_type": "execute_result"
        }
      ],
      "source": [
        "result"
      ]
    },
    {
      "cell_type": "code",
      "execution_count": 19,
      "metadata": {
        "id": "aX6pio04O9ql"
      },
      "outputs": [],
      "source": [
        "y_pred = np.zeros(len(result))\n",
        "for i, score in enumerate(result):\n",
        "    y_pred[i] = 1 if score > 0.5 else 0"
      ]
    },
    {
      "cell_type": "code",
      "execution_count": 20,
      "metadata": {
        "colab": {
          "base_uri": "https://localhost:8080/"
        },
        "id": "mxMV6-h_O9uB",
        "outputId": "935da282-98fb-4def-d5ee-9ced15291c16"
      },
      "outputs": [
        {
          "name": "stdout",
          "output_type": "stream",
          "text": [
            "Mean Absolute Error : 0.14708\n",
            "Accuracy : 85.292\n"
          ]
        }
      ],
      "source": [
        "from sklearn.metrics import mean_absolute_error,accuracy_score\n",
        "print(\"Mean Absolute Error :\", mean_absolute_error(y_pred, y_test))\n",
        "print(\"Accuracy :\",100*(accuracy_score(y_test, y_pred)))"
      ]
    }
  ],
  "metadata": {
    "colab": {
      "collapsed_sections": [],
      "name": "imdb_sentiment_final.ipynb",
      "provenance": []
    },
    "kernelspec": {
      "display_name": "Python 3.10.6 64-bit",
      "language": "python",
      "name": "python3"
    },
    "language_info": {
      "codemirror_mode": {
        "name": "ipython",
        "version": 3
      },
      "file_extension": ".py",
      "mimetype": "text/x-python",
      "name": "python",
      "nbconvert_exporter": "python",
      "pygments_lexer": "ipython3",
      "version": "3.10.6"
    },
    "vscode": {
      "interpreter": {
        "hash": "329969e5ef26dfb892bdf5087b16a5716398eba3289ffebfe1479d895caa15a8"
      }
    }
  },
  "nbformat": 4,
  "nbformat_minor": 0
}
