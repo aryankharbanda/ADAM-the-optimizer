{
  "cells": [
    {
      "cell_type": "markdown",
      "metadata": {
        "id": "y-QHS9TrcgQx"
      },
      "source": [
        "### Load Data"
      ]
    },
    {
      "cell_type": "code",
      "execution_count": 2,
      "metadata": {
        "id": "3i5y-o45MPVu"
      },
      "outputs": [
        {
          "name": "stderr",
          "output_type": "stream",
          "text": [
            "/Users/priyanshul/miniconda/envs/SMAI/lib/python3.10/site-packages/scipy/__init__.py:146: UserWarning: A NumPy version >=1.16.5 and <1.23.0 is required for this version of SciPy (detected version 1.23.5\n",
            "  warnings.warn(f\"A NumPy version >={np_minversion} and <{np_maxversion}\"\n"
          ]
        }
      ],
      "source": [
        "from keras.datasets import imdb\n",
        "\n",
        "# Load the data, keeping only 10,000 of the most frequently occuring words\n",
        "(train_data, train_labels), (test_data, test_labels) = imdb.load_data(num_words = 10000)"
      ]
    },
    {
      "cell_type": "code",
      "execution_count": 3,
      "metadata": {
        "colab": {
          "base_uri": "https://localhost:8080/"
        },
        "id": "p4fodXOhM4ZR",
        "outputId": "b93bc6fc-520b-4cc1-c1e9-00299cac162d"
      },
      "outputs": [
        {
          "data": {
            "text/plain": [
              "9999"
            ]
          },
          "execution_count": 3,
          "metadata": {},
          "output_type": "execute_result"
        }
      ],
      "source": [
        "max([max(sequence) for sequence in train_data])"
      ]
    },
    {
      "cell_type": "markdown",
      "metadata": {
        "id": "lwfHYX-3coNd"
      },
      "source": [
        "### Check a review"
      ]
    },
    {
      "cell_type": "code",
      "execution_count": 4,
      "metadata": {
        "colab": {
          "base_uri": "https://localhost:8080/",
          "height": 103
        },
        "id": "Uvh4Gu8lNB2h",
        "outputId": "2ea410ea-b0c8-4ecc-d84d-da202c0c79ca"
      },
      "outputs": [
        {
          "data": {
            "text/plain": [
              "\"? this film was just brilliant casting location scenery story direction everyone's really suited the part they played and you could just imagine being there robert ? is an amazing actor and now the same being director ? father came from the same scottish island as myself so i loved the fact there was a real connection with this film the witty remarks throughout the film were great it was just brilliant so much that i bought the film as soon as it was released for ? and would recommend it to everyone to watch and the fly fishing was amazing really cried at the end it was so sad and you know what they say if you cry at a film it must have been good and this definitely was also ? to the two little boy's that played the ? of norman and paul they were just brilliant children are often left out of the ? list i think because the stars that play them all grown up are such a big profile for the whole film but these children are amazing and should be praised for what they have done don't you think the whole story was so lovely because it was true and was someone's life after all that was shared with us all\""
            ]
          },
          "execution_count": 4,
          "metadata": {},
          "output_type": "execute_result"
        }
      ],
      "source": [
        "# Convert numbered review to actual review\n",
        "\n",
        "word_index = imdb.get_word_index()\n",
        "reverse_word_index = dict([(value, key) for (key, value) in word_index.items()])\n",
        "decoded_review = ' '.join([reverse_word_index.get(i-3, '?') for i in train_data[0]])\n",
        "\n",
        "decoded_review"
      ]
    },
    {
      "cell_type": "markdown",
      "metadata": {
        "id": "Om6eDbaWcs4G"
      },
      "source": [
        "### Vectorize input data and labels"
      ]
    },
    {
      "cell_type": "code",
      "execution_count": 5,
      "metadata": {
        "id": "NNjv42qENI-N"
      },
      "outputs": [],
      "source": [
        "import numpy as np\n",
        "\n",
        "def vectorize_sequences(sequences, dimension=10000):\n",
        "    results = np.zeros((len(sequences), dimension))    # Creates an all zero matrix of shape (len(sequences),10K)\n",
        "    for i,sequence in enumerate(sequences):\n",
        "        results[i,sequence] = 1                        # Sets specific indices of results[i] to 1s\n",
        "    return results\n",
        "\n",
        "# Vectorize training Data\n",
        "X_train = vectorize_sequences(train_data)\n",
        "\n",
        "# Vectorize testing Data\n",
        "X_test = vectorize_sequences(test_data)"
      ]
    },
    {
      "cell_type": "code",
      "execution_count": 6,
      "metadata": {
        "colab": {
          "base_uri": "https://localhost:8080/"
        },
        "id": "syGGjgeAaiIM",
        "outputId": "f902751a-2bce-43d9-befc-d54a89b11e5c"
      },
      "outputs": [
        {
          "name": "stdout",
          "output_type": "stream",
          "text": [
            "(25000,)\n"
          ]
        },
        {
          "data": {
            "text/plain": [
              "array([1, 0, 0, ..., 0, 1, 0])"
            ]
          },
          "execution_count": 6,
          "metadata": {},
          "output_type": "execute_result"
        }
      ],
      "source": [
        "print(train_labels.shape)\n",
        "train_labels"
      ]
    },
    {
      "cell_type": "code",
      "execution_count": 7,
      "metadata": {
        "colab": {
          "base_uri": "https://localhost:8080/"
        },
        "id": "rgLZ0j7qaroM",
        "outputId": "60ce6343-cf8c-4bcb-96ef-d7c3f7b5e20c"
      },
      "outputs": [
        {
          "name": "stdout",
          "output_type": "stream",
          "text": [
            "(25000,)\n"
          ]
        },
        {
          "data": {
            "text/plain": [
              "array([0, 1, 1, ..., 0, 0, 0])"
            ]
          },
          "execution_count": 7,
          "metadata": {},
          "output_type": "execute_result"
        }
      ],
      "source": [
        "print(test_labels.shape)\n",
        "test_labels"
      ]
    },
    {
      "cell_type": "markdown",
      "metadata": {
        "id": "u45h8eflcw-V"
      },
      "source": [
        "### Distribution"
      ]
    },
    {
      "cell_type": "code",
      "execution_count": 8,
      "metadata": {
        "colab": {
          "base_uri": "https://localhost:8080/",
          "height": 320
        },
        "id": "UwVN10wxau-f",
        "outputId": "55578338-25ee-46ba-a419-6126e8ed6c7b"
      },
      "outputs": [
        {
          "name": "stdout",
          "output_type": "stream",
          "text": [
            "12500\n"
          ]
        },
        {
          "data": {
            "image/png": "[encoded data removed]",
            "text/plain": [
              "<Figure size 500x500 with 1 Axes>"
            ]
          },
          "metadata": {},
          "output_type": "display_data"
        }
      ],
      "source": [
        "import numpy as np\n",
        "import matplotlib.pyplot as plt\n",
        " \n",
        "fig = plt.figure(figsize=(5,5))\n",
        "colors = [\"lightgreen\",'coral']\n",
        "pos = 0\n",
        "neg = 0\n",
        "for x in train_labels:\n",
        "  if x==0:\n",
        "      neg=neg+1\n",
        "  else:\n",
        "      pos=pos+1\n",
        "ck=[]\n",
        "ck.append(pos)\n",
        "ck.append(neg)\n",
        "piechart = plt.pie(ck,labels=[\"Positive\",\"Negative\"],\n",
        "                 autopct ='%1.1f%%',\n",
        "                 shadow = True,\n",
        "                 colors = colors,\n",
        "                 startangle = 15,\n",
        "                 explode=(0, 0.05))\n",
        "print(pos)"
      ]
    },
    {
      "cell_type": "code",
      "execution_count": 9,
      "metadata": {
        "colab": {
          "base_uri": "https://localhost:8080/"
        },
        "id": "M_6OyFstNQ5Z",
        "outputId": "1a4fc081-ff97-438c-9a8d-498ad513cba4"
      },
      "outputs": [
        {
          "name": "stdout",
          "output_type": "stream",
          "text": [
            "(25000, 10000)\n"
          ]
        },
        {
          "data": {
            "text/plain": [
              "array([[0., 1., 1., ..., 0., 0., 0.],\n",
              "       [0., 1., 1., ..., 0., 0., 0.],\n",
              "       [0., 1., 1., ..., 0., 0., 0.],\n",
              "       ...,\n",
              "       [0., 1., 1., ..., 0., 0., 0.],\n",
              "       [0., 1., 1., ..., 0., 0., 0.],\n",
              "       [0., 1., 1., ..., 0., 0., 0.]])"
            ]
          },
          "execution_count": 9,
          "metadata": {},
          "output_type": "execute_result"
        }
      ],
      "source": [
        "print(X_train.shape)\n",
        "X_train"
      ]
    },
    {
      "cell_type": "code",
      "execution_count": 10,
      "metadata": {
        "id": "InZp-pIGNQ8L"
      },
      "outputs": [],
      "source": [
        "y_train = np.asarray(train_labels).astype('float32')\n",
        "y_test  = np.asarray(test_labels).astype('float32')"
      ]
    },
    {
      "cell_type": "code",
      "execution_count": 11,
      "metadata": {
        "colab": {
          "base_uri": "https://localhost:8080/"
        },
        "id": "nMZuv13sZIpm",
        "outputId": "55fde85a-e220-4e51-edde-2290a68ab4e0"
      },
      "outputs": [
        {
          "name": "stdout",
          "output_type": "stream",
          "text": [
            "(25000,)\n"
          ]
        },
        {
          "data": {
            "text/plain": [
              "array([0., 1., 1., ..., 0., 0., 0.], dtype=float32)"
            ]
          },
          "execution_count": 11,
          "metadata": {},
          "output_type": "execute_result"
        }
      ],
      "source": [
        "print(y_test.shape)\n",
        "y_test\n"
      ]
    },
    {
      "cell_type": "code",
      "execution_count": 12,
      "metadata": {
        "id": "668k815XN_mS"
      },
      "outputs": [],
      "source": [
        "from keras import models\n",
        "from keras import layers"
      ]
    },
    {
      "cell_type": "code",
      "execution_count": 13,
      "metadata": {
        "id": "ef7IdGUdN_pJ"
      },
      "outputs": [],
      "source": [
        "from tensorflow.keras import optimizers\n",
        "from keras import losses\n",
        "from keras import metrics"
      ]
    },
    {
      "cell_type": "code",
      "execution_count": 14,
      "metadata": {
        "id": "ox9zUmatN_s4"
      },
      "outputs": [],
      "source": [
        "# Input for Validation\n",
        "X_val = X_train[:5000]\n",
        "partial_X_train = X_train[5000:]\n",
        "\n",
        "# Labels for validation\n",
        "y_val = y_train[:5000]\n",
        "partial_y_train = y_train[5000:]"
      ]
    },
    {
      "cell_type": "markdown",
      "metadata": {
        "id": "PQEo6oK5eRSl"
      },
      "source": [
        "### Training Model"
      ]
    },
    {
      "cell_type": "code",
      "execution_count": 15,
      "metadata": {
        "colab": {
          "base_uri": "https://localhost:8080/"
        },
        "id": "Zbn0YxuARsXd",
        "outputId": "d3c6bf81-9373-436c-dcc9-ab01dfe895a7"
      },
      "outputs": [
        {
          "name": "stderr",
          "output_type": "stream",
          "text": [
            "2022-12-02 21:36:36.150398: I tensorflow/core/common_runtime/pluggable_device/pluggable_device_factory.cc:306] Could not identify NUMA node of platform GPU ID 0, defaulting to 0. Your kernel may not have been built with NUMA support.\n",
            "2022-12-02 21:36:36.150800: I tensorflow/core/common_runtime/pluggable_device/pluggable_device_factory.cc:272] Created TensorFlow device (/job:localhost/replica:0/task:0/device:GPU:0 with 0 MB memory) -> physical PluggableDevice (device: 0, name: METAL, pci bus id: <undefined>)\n",
            "/Users/priyanshul/miniconda/envs/SMAI/lib/python3.10/site-packages/keras/optimizers/optimizer_v2/adam.py:114: UserWarning: The `lr` argument is deprecated, use `learning_rate` instead.\n",
            "  super().__init__(name, **kwargs)\n"
          ]
        },
        {
          "name": "stdout",
          "output_type": "stream",
          "text": [
            "Metal device set to: Apple M1\n",
            "\n",
            "systemMemory: 16.00 GB\n",
            "maxCacheSize: 5.33 GB\n",
            "\n",
            "\n",
            "-----------------------------------------\n",
            "\n",
            "Optimizer :  Adam_scratch \n",
            "\n",
            "Epoch 1/15\n"
          ]
        },
        {
          "name": "stderr",
          "output_type": "stream",
          "text": [
            "2022-12-02 21:36:37.794188: W tensorflow/core/platform/profile_utils/cpu_utils.cc:128] Failed to get CPU frequency: 0 Hz\n",
            "2022-12-02 21:36:38.656187: I tensorflow/core/grappler/optimizers/custom_graph_optimizer_registry.cc:114] Plugin optimizer for device_type GPU is enabled.\n"
          ]
        },
        {
          "name": "stdout",
          "output_type": "stream",
          "text": [
            "198/200 [============================>.] - ETA: 0s - loss: 0.3258 - binary_accuracy: 0.8586"
          ]
        },
        {
          "name": "stderr",
          "output_type": "stream",
          "text": [
            "2022-12-02 21:36:40.972938: I tensorflow/core/grappler/optimizers/custom_graph_optimizer_registry.cc:114] Plugin optimizer for device_type GPU is enabled.\n"
          ]
        },
        {
          "name": "stdout",
          "output_type": "stream",
          "text": [
            "200/200 [==============================] - 3s 12ms/step - loss: 0.3254 - binary_accuracy: 0.8588 - val_loss: 0.2777 - val_binary_accuracy: 0.8862\n",
            "Epoch 2/15\n",
            "200/200 [==============================] - 2s 10ms/step - loss: 0.1594 - binary_accuracy: 0.9363 - val_loss: 0.3263 - val_binary_accuracy: 0.8782\n",
            "Epoch 3/15\n",
            "200/200 [==============================] - 2s 10ms/step - loss: 0.0994 - binary_accuracy: 0.9592 - val_loss: 0.4442 - val_binary_accuracy: 0.8738\n",
            "Epoch 4/15\n",
            "200/200 [==============================] - 2s 11ms/step - loss: 0.0645 - binary_accuracy: 0.9743 - val_loss: 0.5384 - val_binary_accuracy: 0.8682\n",
            "Epoch 5/15\n",
            "200/200 [==============================] - 2s 10ms/step - loss: 0.0458 - binary_accuracy: 0.9830 - val_loss: 0.7122 - val_binary_accuracy: 0.8710\n",
            "Epoch 6/15\n",
            "200/200 [==============================] - 2s 10ms/step - loss: 0.0290 - binary_accuracy: 0.9896 - val_loss: 0.8395 - val_binary_accuracy: 0.8708\n",
            "Epoch 7/15\n",
            "200/200 [==============================] - 2s 10ms/step - loss: 0.0266 - binary_accuracy: 0.9913 - val_loss: 0.7888 - val_binary_accuracy: 0.8732\n",
            "Epoch 8/15\n",
            "200/200 [==============================] - 2s 9ms/step - loss: 0.0232 - binary_accuracy: 0.9923 - val_loss: 0.8948 - val_binary_accuracy: 0.8666\n",
            "Epoch 9/15\n",
            "200/200 [==============================] - 2s 8ms/step - loss: 0.0120 - binary_accuracy: 0.9960 - val_loss: 1.0880 - val_binary_accuracy: 0.8718\n",
            "Epoch 10/15\n",
            "200/200 [==============================] - 2s 8ms/step - loss: 0.0089 - binary_accuracy: 0.9974 - val_loss: 0.9920 - val_binary_accuracy: 0.8668\n",
            "Epoch 11/15\n",
            "200/200 [==============================] - 2s 8ms/step - loss: 0.0159 - binary_accuracy: 0.9950 - val_loss: 0.9962 - val_binary_accuracy: 0.8716\n",
            "Epoch 12/15\n",
            "200/200 [==============================] - 2s 10ms/step - loss: 0.0206 - binary_accuracy: 0.9935 - val_loss: 0.7969 - val_binary_accuracy: 0.8644\n",
            "Epoch 13/15\n",
            "200/200 [==============================] - 2s 11ms/step - loss: 0.0211 - binary_accuracy: 0.9934 - val_loss: 0.9554 - val_binary_accuracy: 0.8630\n",
            "Epoch 14/15\n",
            "200/200 [==============================] - 2s 10ms/step - loss: 0.0097 - binary_accuracy: 0.9969 - val_loss: 1.0345 - val_binary_accuracy: 0.8724\n",
            "Epoch 15/15\n",
            "200/200 [==============================] - 2s 11ms/step - loss: 0.0017 - binary_accuracy: 0.9996 - val_loss: 1.3026 - val_binary_accuracy: 0.8742\n",
            "\n",
            "-----------------------------------------\n",
            "\n",
            "\n",
            "-----------------------------------------\n",
            "\n",
            "Optimizer :  RMSprop \n",
            "\n"
          ]
        },
        {
          "name": "stderr",
          "output_type": "stream",
          "text": [
            "/Users/priyanshul/miniconda/envs/SMAI/lib/python3.10/site-packages/keras/optimizers/optimizer_v2/rmsprop.py:140: UserWarning: The `lr` argument is deprecated, use `learning_rate` instead.\n",
            "  super().__init__(name, **kwargs)\n"
          ]
        },
        {
          "name": "stdout",
          "output_type": "stream",
          "text": [
            "Epoch 1/15\n"
          ]
        },
        {
          "name": "stderr",
          "output_type": "stream",
          "text": [
            "2022-12-02 21:37:10.283740: I tensorflow/core/grappler/optimizers/custom_graph_optimizer_registry.cc:114] Plugin optimizer for device_type GPU is enabled.\n"
          ]
        },
        {
          "name": "stdout",
          "output_type": "stream",
          "text": [
            "197/200 [============================>.] - ETA: 0s - loss: 0.3627 - binary_accuracy: 0.8456"
          ]
        },
        {
          "name": "stderr",
          "output_type": "stream",
          "text": [
            "2022-12-02 21:37:12.639086: I tensorflow/core/grappler/optimizers/custom_graph_optimizer_registry.cc:114] Plugin optimizer for device_type GPU is enabled.\n"
          ]
        },
        {
          "name": "stdout",
          "output_type": "stream",
          "text": [
            "200/200 [==============================] - 3s 12ms/step - loss: 0.3615 - binary_accuracy: 0.8460 - val_loss: 0.2753 - val_binary_accuracy: 0.8914\n",
            "Epoch 2/15\n",
            "200/200 [==============================] - 2s 9ms/step - loss: 0.2016 - binary_accuracy: 0.9221 - val_loss: 0.2972 - val_binary_accuracy: 0.8890\n",
            "Epoch 3/15\n",
            "200/200 [==============================] - 2s 10ms/step - loss: 0.1425 - binary_accuracy: 0.9449 - val_loss: 0.3456 - val_binary_accuracy: 0.8794\n",
            "Epoch 4/15\n",
            "200/200 [==============================] - 2s 12ms/step - loss: 0.0966 - binary_accuracy: 0.9635 - val_loss: 0.4544 - val_binary_accuracy: 0.8782\n",
            "Epoch 5/15\n",
            "200/200 [==============================] - 2s 9ms/step - loss: 0.0637 - binary_accuracy: 0.9783 - val_loss: 0.5553 - val_binary_accuracy: 0.8816\n",
            "Epoch 6/15\n",
            "200/200 [==============================] - 2s 10ms/step - loss: 0.0422 - binary_accuracy: 0.9849 - val_loss: 0.9625 - val_binary_accuracy: 0.8582\n",
            "Epoch 7/15\n",
            "200/200 [==============================] - 2s 11ms/step - loss: 0.0314 - binary_accuracy: 0.9884 - val_loss: 1.0858 - val_binary_accuracy: 0.8792\n",
            "Epoch 8/15\n",
            "200/200 [==============================] - 2s 9ms/step - loss: 0.0268 - binary_accuracy: 0.9898 - val_loss: 1.2436 - val_binary_accuracy: 0.8734\n",
            "Epoch 9/15\n",
            "200/200 [==============================] - 2s 9ms/step - loss: 0.0324 - binary_accuracy: 0.9908 - val_loss: 1.2941 - val_binary_accuracy: 0.8648\n",
            "Epoch 10/15\n",
            "200/200 [==============================] - 2s 11ms/step - loss: 0.0222 - binary_accuracy: 0.9923 - val_loss: 1.5769 - val_binary_accuracy: 0.8678\n",
            "Epoch 11/15\n",
            "200/200 [==============================] - 2s 10ms/step - loss: 0.0243 - binary_accuracy: 0.9926 - val_loss: 1.7299 - val_binary_accuracy: 0.8708\n",
            "Epoch 12/15\n",
            "200/200 [==============================] - 2s 9ms/step - loss: 0.0189 - binary_accuracy: 0.9943 - val_loss: 1.6938 - val_binary_accuracy: 0.8710\n",
            "Epoch 13/15\n",
            "200/200 [==============================] - 2s 9ms/step - loss: 0.0213 - binary_accuracy: 0.9941 - val_loss: 1.6865 - val_binary_accuracy: 0.8638\n",
            "Epoch 14/15\n",
            "200/200 [==============================] - 2s 9ms/step - loss: 0.0237 - binary_accuracy: 0.9943 - val_loss: 2.0379 - val_binary_accuracy: 0.8678\n",
            "Epoch 15/15\n",
            "200/200 [==============================] - 2s 9ms/step - loss: 0.0209 - binary_accuracy: 0.9946 - val_loss: 1.8904 - val_binary_accuracy: 0.8632\n",
            "\n",
            "-----------------------------------------\n",
            "\n",
            "\n",
            "-----------------------------------------\n",
            "\n",
            "Optimizer :  Adam \n",
            "\n",
            "Epoch 1/15\n",
            "  7/200 [>.............................] - ETA: 2s - loss: 0.6208 - binary_accuracy: 0.6657 "
          ]
        },
        {
          "name": "stderr",
          "output_type": "stream",
          "text": [
            "2022-12-02 21:37:41.496015: I tensorflow/core/grappler/optimizers/custom_graph_optimizer_registry.cc:114] Plugin optimizer for device_type GPU is enabled.\n"
          ]
        },
        {
          "name": "stdout",
          "output_type": "stream",
          "text": [
            "195/200 [============================>.] - ETA: 0s - loss: 0.3257 - binary_accuracy: 0.8610"
          ]
        },
        {
          "name": "stderr",
          "output_type": "stream",
          "text": [
            "2022-12-02 21:37:43.297341: I tensorflow/core/grappler/optimizers/custom_graph_optimizer_registry.cc:114] Plugin optimizer for device_type GPU is enabled.\n"
          ]
        },
        {
          "name": "stdout",
          "output_type": "stream",
          "text": [
            "200/200 [==============================] - 2s 10ms/step - loss: 0.3232 - binary_accuracy: 0.8624 - val_loss: 0.2731 - val_binary_accuracy: 0.8854\n",
            "Epoch 2/15\n",
            "200/200 [==============================] - 2s 8ms/step - loss: 0.1595 - binary_accuracy: 0.9352 - val_loss: 0.3238 - val_binary_accuracy: 0.8734\n",
            "Epoch 3/15\n",
            "200/200 [==============================] - 2s 8ms/step - loss: 0.0973 - binary_accuracy: 0.9593 - val_loss: 0.4260 - val_binary_accuracy: 0.8698\n",
            "Epoch 4/15\n",
            "200/200 [==============================] - 2s 8ms/step - loss: 0.0678 - binary_accuracy: 0.9714 - val_loss: 0.5004 - val_binary_accuracy: 0.8716\n",
            "Epoch 5/15\n",
            "200/200 [==============================] - 2s 8ms/step - loss: 0.0458 - binary_accuracy: 0.9816 - val_loss: 0.6438 - val_binary_accuracy: 0.8596\n",
            "Epoch 6/15\n",
            "200/200 [==============================] - 2s 9ms/step - loss: 0.0369 - binary_accuracy: 0.9863 - val_loss: 0.7109 - val_binary_accuracy: 0.8678\n",
            "Epoch 7/15\n",
            "200/200 [==============================] - 2s 9ms/step - loss: 0.0270 - binary_accuracy: 0.9904 - val_loss: 0.8151 - val_binary_accuracy: 0.8636\n",
            "Epoch 8/15\n",
            "200/200 [==============================] - 2s 8ms/step - loss: 0.0198 - binary_accuracy: 0.9931 - val_loss: 0.9160 - val_binary_accuracy: 0.8694\n",
            "Epoch 9/15\n",
            "200/200 [==============================] - 2s 8ms/step - loss: 0.0101 - binary_accuracy: 0.9971 - val_loss: 0.9135 - val_binary_accuracy: 0.8616\n",
            "Epoch 10/15\n",
            "200/200 [==============================] - 2s 8ms/step - loss: 0.0150 - binary_accuracy: 0.9954 - val_loss: 1.0179 - val_binary_accuracy: 0.8682\n",
            "Epoch 11/15\n",
            "200/200 [==============================] - 2s 8ms/step - loss: 0.0102 - binary_accuracy: 0.9969 - val_loss: 1.0341 - val_binary_accuracy: 0.8660\n",
            "Epoch 12/15\n",
            "200/200 [==============================] - 2s 8ms/step - loss: 0.0098 - binary_accuracy: 0.9969 - val_loss: 1.2666 - val_binary_accuracy: 0.8616\n",
            "Epoch 13/15\n",
            "200/200 [==============================] - 2s 8ms/step - loss: 0.0082 - binary_accuracy: 0.9976 - val_loss: 1.2678 - val_binary_accuracy: 0.8616\n",
            "Epoch 14/15\n",
            "200/200 [==============================] - 2s 8ms/step - loss: 0.0120 - binary_accuracy: 0.9963 - val_loss: 1.0907 - val_binary_accuracy: 0.8712\n",
            "Epoch 15/15\n",
            "200/200 [==============================] - 2s 8ms/step - loss: 0.0089 - binary_accuracy: 0.9970 - val_loss: 1.1446 - val_binary_accuracy: 0.8648\n",
            "\n",
            "-----------------------------------------\n",
            "\n",
            "\n",
            "-----------------------------------------\n",
            "\n",
            "Optimizer :  SGD \n",
            "\n"
          ]
        },
        {
          "name": "stderr",
          "output_type": "stream",
          "text": [
            "/Users/priyanshul/miniconda/envs/SMAI/lib/python3.10/site-packages/keras/optimizers/optimizer_v2/gradient_descent.py:111: UserWarning: The `lr` argument is deprecated, use `learning_rate` instead.\n",
            "  super().__init__(name, **kwargs)\n"
          ]
        },
        {
          "name": "stdout",
          "output_type": "stream",
          "text": [
            "Epoch 1/15\n",
            "  8/200 [>.............................] - ETA: 1s - loss: 0.6933 - binary_accuracy: 0.4825 "
          ]
        },
        {
          "name": "stderr",
          "output_type": "stream",
          "text": [
            "2022-12-02 21:38:07.496046: I tensorflow/core/grappler/optimizers/custom_graph_optimizer_registry.cc:114] Plugin optimizer for device_type GPU is enabled.\n"
          ]
        },
        {
          "name": "stdout",
          "output_type": "stream",
          "text": [
            "200/200 [==============================] - ETA: 0s - loss: 0.6854 - binary_accuracy: 0.5636"
          ]
        },
        {
          "name": "stderr",
          "output_type": "stream",
          "text": [
            "2022-12-02 21:38:09.251192: I tensorflow/core/grappler/optimizers/custom_graph_optimizer_registry.cc:114] Plugin optimizer for device_type GPU is enabled.\n"
          ]
        },
        {
          "name": "stdout",
          "output_type": "stream",
          "text": [
            "200/200 [==============================] - 2s 10ms/step - loss: 0.6854 - binary_accuracy: 0.5636 - val_loss: 0.6675 - val_binary_accuracy: 0.6676\n",
            "Epoch 2/15\n",
            "200/200 [==============================] - 2s 8ms/step - loss: 0.6282 - binary_accuracy: 0.7366 - val_loss: 0.5873 - val_binary_accuracy: 0.7684\n",
            "Epoch 3/15\n",
            "200/200 [==============================] - 2s 8ms/step - loss: 0.5303 - binary_accuracy: 0.8078 - val_loss: 0.4872 - val_binary_accuracy: 0.8086\n",
            "Epoch 4/15\n",
            "200/200 [==============================] - 1s 7ms/step - loss: 0.4359 - binary_accuracy: 0.8356 - val_loss: 0.4125 - val_binary_accuracy: 0.8296\n",
            "Epoch 5/15\n",
            "200/200 [==============================] - 1s 7ms/step - loss: 0.3738 - binary_accuracy: 0.8549 - val_loss: 0.3699 - val_binary_accuracy: 0.8462\n",
            "Epoch 6/15\n",
            "200/200 [==============================] - 1s 7ms/step - loss: 0.3354 - binary_accuracy: 0.8671 - val_loss: 0.3447 - val_binary_accuracy: 0.8532\n",
            "Epoch 7/15\n",
            "200/200 [==============================] - 2s 8ms/step - loss: 0.3085 - binary_accuracy: 0.8758 - val_loss: 0.3289 - val_binary_accuracy: 0.8628\n",
            "Epoch 8/15\n",
            "200/200 [==============================] - 1s 7ms/step - loss: 0.2878 - binary_accuracy: 0.8854 - val_loss: 0.3172 - val_binary_accuracy: 0.8674\n",
            "Epoch 9/15\n",
            "200/200 [==============================] - 1s 7ms/step - loss: 0.2706 - binary_accuracy: 0.8932 - val_loss: 0.3082 - val_binary_accuracy: 0.8726\n",
            "Epoch 10/15\n",
            "200/200 [==============================] - 2s 8ms/step - loss: 0.2562 - binary_accuracy: 0.9002 - val_loss: 0.3029 - val_binary_accuracy: 0.8772\n",
            "Epoch 11/15\n",
            "200/200 [==============================] - 1s 7ms/step - loss: 0.2443 - binary_accuracy: 0.9050 - val_loss: 0.2984 - val_binary_accuracy: 0.8768\n",
            "Epoch 12/15\n",
            "200/200 [==============================] - 2s 8ms/step - loss: 0.2335 - binary_accuracy: 0.9115 - val_loss: 0.2951 - val_binary_accuracy: 0.8786\n",
            "Epoch 13/15\n",
            "200/200 [==============================] - 1s 7ms/step - loss: 0.2237 - binary_accuracy: 0.9152 - val_loss: 0.2926 - val_binary_accuracy: 0.8808\n",
            "Epoch 14/15\n",
            "200/200 [==============================] - 2s 9ms/step - loss: 0.2155 - binary_accuracy: 0.9188 - val_loss: 0.2905 - val_binary_accuracy: 0.8828\n",
            "Epoch 15/15\n",
            "200/200 [==============================] - 2s 9ms/step - loss: 0.2073 - binary_accuracy: 0.9217 - val_loss: 0.2906 - val_binary_accuracy: 0.8838\n",
            "\n",
            "-----------------------------------------\n",
            "\n",
            "\n",
            "-----------------------------------------\n",
            "\n",
            "Optimizer :  Adadelta \n",
            "\n"
          ]
        },
        {
          "name": "stderr",
          "output_type": "stream",
          "text": [
            "/Users/priyanshul/miniconda/envs/SMAI/lib/python3.10/site-packages/keras/optimizers/optimizer_v2/adadelta.py:79: UserWarning: The `lr` argument is deprecated, use `learning_rate` instead.\n",
            "  super().__init__(name, **kwargs)\n"
          ]
        },
        {
          "name": "stdout",
          "output_type": "stream",
          "text": [
            "Epoch 1/15\n",
            "  7/200 [>.............................] - ETA: 1s - loss: 0.6920 - binary_accuracy: 0.5429 "
          ]
        },
        {
          "name": "stderr",
          "output_type": "stream",
          "text": [
            "2022-12-02 21:38:32.463823: I tensorflow/core/grappler/optimizers/custom_graph_optimizer_registry.cc:114] Plugin optimizer for device_type GPU is enabled.\n"
          ]
        },
        {
          "name": "stdout",
          "output_type": "stream",
          "text": [
            "198/200 [============================>.] - ETA: 0s - loss: 0.6909 - binary_accuracy: 0.5431"
          ]
        },
        {
          "name": "stderr",
          "output_type": "stream",
          "text": [
            "2022-12-02 21:38:34.218022: I tensorflow/core/grappler/optimizers/custom_graph_optimizer_registry.cc:114] Plugin optimizer for device_type GPU is enabled.\n"
          ]
        },
        {
          "name": "stdout",
          "output_type": "stream",
          "text": [
            "200/200 [==============================] - 2s 10ms/step - loss: 0.6909 - binary_accuracy: 0.5432 - val_loss: 0.6890 - val_binary_accuracy: 0.5610\n",
            "Epoch 2/15\n",
            "200/200 [==============================] - 2s 8ms/step - loss: 0.6843 - binary_accuracy: 0.6074 - val_loss: 0.6811 - val_binary_accuracy: 0.6188\n",
            "Epoch 3/15\n",
            "200/200 [==============================] - 2s 8ms/step - loss: 0.6721 - binary_accuracy: 0.6654 - val_loss: 0.6660 - val_binary_accuracy: 0.6798\n",
            "Epoch 4/15\n",
            "200/200 [==============================] - 2s 8ms/step - loss: 0.6516 - binary_accuracy: 0.7175 - val_loss: 0.6437 - val_binary_accuracy: 0.7194\n",
            "Epoch 5/15\n",
            "200/200 [==============================] - 2s 8ms/step - loss: 0.6253 - binary_accuracy: 0.7558 - val_loss: 0.6166 - val_binary_accuracy: 0.7584\n",
            "Epoch 6/15\n",
            "200/200 [==============================] - 2s 8ms/step - loss: 0.5965 - binary_accuracy: 0.7905 - val_loss: 0.5886 - val_binary_accuracy: 0.7798\n",
            "Epoch 7/15\n",
            "200/200 [==============================] - 2s 8ms/step - loss: 0.5677 - binary_accuracy: 0.8116 - val_loss: 0.5620 - val_binary_accuracy: 0.7972\n",
            "Epoch 8/15\n",
            "200/200 [==============================] - 2s 8ms/step - loss: 0.5405 - binary_accuracy: 0.8253 - val_loss: 0.5372 - val_binary_accuracy: 0.8106\n",
            "Epoch 9/15\n",
            "200/200 [==============================] - 2s 8ms/step - loss: 0.5157 - binary_accuracy: 0.8350 - val_loss: 0.5152 - val_binary_accuracy: 0.8168\n",
            "Epoch 10/15\n",
            "200/200 [==============================] - 2s 8ms/step - loss: 0.4930 - binary_accuracy: 0.8427 - val_loss: 0.4951 - val_binary_accuracy: 0.8242\n",
            "Epoch 11/15\n",
            "200/200 [==============================] - 2s 8ms/step - loss: 0.4726 - binary_accuracy: 0.8487 - val_loss: 0.4770 - val_binary_accuracy: 0.8300\n",
            "Epoch 12/15\n",
            "200/200 [==============================] - 2s 8ms/step - loss: 0.4540 - binary_accuracy: 0.8548 - val_loss: 0.4607 - val_binary_accuracy: 0.8362\n",
            "Epoch 13/15\n",
            "200/200 [==============================] - 2s 8ms/step - loss: 0.4370 - binary_accuracy: 0.8598 - val_loss: 0.4457 - val_binary_accuracy: 0.8406\n",
            "Epoch 14/15\n",
            "200/200 [==============================] - 2s 8ms/step - loss: 0.4213 - binary_accuracy: 0.8635 - val_loss: 0.4321 - val_binary_accuracy: 0.8448\n",
            "Epoch 15/15\n",
            "200/200 [==============================] - 2s 8ms/step - loss: 0.4072 - binary_accuracy: 0.8678 - val_loss: 0.4199 - val_binary_accuracy: 0.8480\n",
            "\n",
            "-----------------------------------------\n",
            "\n",
            "\n",
            "-----------------------------------------\n",
            "\n",
            "Optimizer :  AdaGrad_scratch \n",
            "\n"
          ]
        },
        {
          "name": "stderr",
          "output_type": "stream",
          "text": [
            "/Users/priyanshul/miniconda/envs/SMAI/lib/python3.10/site-packages/keras/optimizers/optimizer_v2/adagrad.py:81: UserWarning: The `lr` argument is deprecated, use `learning_rate` instead.\n",
            "  super().__init__(name, **kwargs)\n"
          ]
        },
        {
          "name": "stdout",
          "output_type": "stream",
          "text": [
            "Epoch 1/15\n",
            "  8/200 [>.............................] - ETA: 1s - loss: 0.6952 - binary_accuracy: 0.5062  "
          ]
        },
        {
          "name": "stderr",
          "output_type": "stream",
          "text": [
            "2022-12-02 21:38:57.958364: I tensorflow/core/grappler/optimizers/custom_graph_optimizer_registry.cc:114] Plugin optimizer for device_type GPU is enabled.\n"
          ]
        },
        {
          "name": "stdout",
          "output_type": "stream",
          "text": [
            "194/200 [============================>.] - ETA: 0s - loss: 0.6083 - binary_accuracy: 0.6995"
          ]
        },
        {
          "name": "stderr",
          "output_type": "stream",
          "text": [
            "2022-12-02 21:38:59.743055: I tensorflow/core/grappler/optimizers/custom_graph_optimizer_registry.cc:114] Plugin optimizer for device_type GPU is enabled.\n"
          ]
        },
        {
          "name": "stdout",
          "output_type": "stream",
          "text": [
            "200/200 [==============================] - 2s 10ms/step - loss: 0.6041 - binary_accuracy: 0.7031 - val_loss: 0.4718 - val_binary_accuracy: 0.8170\n",
            "Epoch 2/15\n",
            "200/200 [==============================] - 2s 8ms/step - loss: 0.3884 - binary_accuracy: 0.8492 - val_loss: 0.3520 - val_binary_accuracy: 0.8608\n",
            "Epoch 3/15\n",
            "200/200 [==============================] - 2s 8ms/step - loss: 0.3063 - binary_accuracy: 0.8786 - val_loss: 0.3153 - val_binary_accuracy: 0.8762\n",
            "Epoch 4/15\n",
            "200/200 [==============================] - 2s 8ms/step - loss: 0.2664 - binary_accuracy: 0.8971 - val_loss: 0.3023 - val_binary_accuracy: 0.8784\n",
            "Epoch 5/15\n",
            "200/200 [==============================] - 2s 8ms/step - loss: 0.2397 - binary_accuracy: 0.9094 - val_loss: 0.2946 - val_binary_accuracy: 0.8830\n",
            "Epoch 6/15\n",
            "200/200 [==============================] - 2s 8ms/step - loss: 0.2202 - binary_accuracy: 0.9173 - val_loss: 0.2895 - val_binary_accuracy: 0.8846\n",
            "Epoch 7/15\n",
            "200/200 [==============================] - 2s 8ms/step - loss: 0.2039 - binary_accuracy: 0.9253 - val_loss: 0.2876 - val_binary_accuracy: 0.8878\n",
            "Epoch 8/15\n",
            "200/200 [==============================] - 2s 9ms/step - loss: 0.1893 - binary_accuracy: 0.9316 - val_loss: 0.2896 - val_binary_accuracy: 0.8836\n",
            "Epoch 9/15\n",
            "200/200 [==============================] - 2s 8ms/step - loss: 0.1771 - binary_accuracy: 0.9386 - val_loss: 0.2903 - val_binary_accuracy: 0.8860\n",
            "Epoch 10/15\n",
            "200/200 [==============================] - 2s 8ms/step - loss: 0.1658 - binary_accuracy: 0.9434 - val_loss: 0.2929 - val_binary_accuracy: 0.8860\n",
            "Epoch 11/15\n",
            "200/200 [==============================] - 2s 8ms/step - loss: 0.1560 - binary_accuracy: 0.9465 - val_loss: 0.2988 - val_binary_accuracy: 0.8856\n",
            "Epoch 12/15\n",
            "200/200 [==============================] - 2s 8ms/step - loss: 0.1473 - binary_accuracy: 0.9507 - val_loss: 0.3005 - val_binary_accuracy: 0.8838\n",
            "Epoch 13/15\n",
            "200/200 [==============================] - 2s 8ms/step - loss: 0.1379 - binary_accuracy: 0.9542 - val_loss: 0.3054 - val_binary_accuracy: 0.8850\n",
            "Epoch 14/15\n",
            "200/200 [==============================] - 2s 8ms/step - loss: 0.1311 - binary_accuracy: 0.9562 - val_loss: 0.3091 - val_binary_accuracy: 0.8836\n",
            "Epoch 15/15\n",
            "200/200 [==============================] - 2s 9ms/step - loss: 0.1230 - binary_accuracy: 0.9621 - val_loss: 0.3141 - val_binary_accuracy: 0.8846\n",
            "\n",
            "-----------------------------------------\n",
            "\n",
            "\n",
            "-----------------------------------------\n",
            "\n",
            "Optimizer :  AdaDelta_scratch \n",
            "\n",
            "Epoch 1/15\n",
            "  7/200 [>.............................] - ETA: 1s - loss: 0.6962 - binary_accuracy: 0.4971  "
          ]
        },
        {
          "name": "stderr",
          "output_type": "stream",
          "text": [
            "2022-12-02 21:39:25.199354: I tensorflow/core/grappler/optimizers/custom_graph_optimizer_registry.cc:114] Plugin optimizer for device_type GPU is enabled.\n"
          ]
        },
        {
          "name": "stdout",
          "output_type": "stream",
          "text": [
            "193/200 [===========================>..] - ETA: 0s - loss: 0.6885 - binary_accuracy: 0.5139"
          ]
        },
        {
          "name": "stderr",
          "output_type": "stream",
          "text": [
            "2022-12-02 21:39:27.383072: I tensorflow/core/grappler/optimizers/custom_graph_optimizer_registry.cc:114] Plugin optimizer for device_type GPU is enabled.\n"
          ]
        },
        {
          "name": "stdout",
          "output_type": "stream",
          "text": [
            "200/200 [==============================] - 3s 12ms/step - loss: 0.6885 - binary_accuracy: 0.5141 - val_loss: 0.6849 - val_binary_accuracy: 0.5114\n",
            "Epoch 2/15\n",
            "200/200 [==============================] - 2s 8ms/step - loss: 0.6757 - binary_accuracy: 0.5344 - val_loss: 0.6711 - val_binary_accuracy: 0.5346\n",
            "Epoch 3/15\n",
            "200/200 [==============================] - 2s 9ms/step - loss: 0.6576 - binary_accuracy: 0.5766 - val_loss: 0.6513 - val_binary_accuracy: 0.6074\n",
            "Epoch 4/15\n",
            "200/200 [==============================] - 2s 9ms/step - loss: 0.6349 - binary_accuracy: 0.6480 - val_loss: 0.6286 - val_binary_accuracy: 0.6652\n",
            "Epoch 5/15\n",
            "200/200 [==============================] - 2s 9ms/step - loss: 0.6104 - binary_accuracy: 0.7060 - val_loss: 0.6053 - val_binary_accuracy: 0.7244\n",
            "Epoch 6/15\n",
            "200/200 [==============================] - 2s 9ms/step - loss: 0.5861 - binary_accuracy: 0.7543 - val_loss: 0.5825 - val_binary_accuracy: 0.7550\n",
            "Epoch 7/15\n",
            "200/200 [==============================] - 2s 9ms/step - loss: 0.5623 - binary_accuracy: 0.7839 - val_loss: 0.5606 - val_binary_accuracy: 0.7800\n",
            "Epoch 8/15\n",
            "200/200 [==============================] - 2s 11ms/step - loss: 0.5393 - binary_accuracy: 0.8057 - val_loss: 0.5387 - val_binary_accuracy: 0.8038\n",
            "Epoch 9/15\n",
            "200/200 [==============================] - 2s 9ms/step - loss: 0.5171 - binary_accuracy: 0.8241 - val_loss: 0.5182 - val_binary_accuracy: 0.8154\n",
            "Epoch 10/15\n",
            "200/200 [==============================] - 2s 8ms/step - loss: 0.4957 - binary_accuracy: 0.8362 - val_loss: 0.4987 - val_binary_accuracy: 0.8208\n",
            "Epoch 11/15\n",
            "200/200 [==============================] - 2s 8ms/step - loss: 0.4755 - binary_accuracy: 0.8455 - val_loss: 0.4803 - val_binary_accuracy: 0.8284\n",
            "Epoch 12/15\n",
            "200/200 [==============================] - 2s 8ms/step - loss: 0.4565 - binary_accuracy: 0.8514 - val_loss: 0.4628 - val_binary_accuracy: 0.8390\n",
            "Epoch 13/15\n",
            "200/200 [==============================] - 2s 9ms/step - loss: 0.4388 - binary_accuracy: 0.8590 - val_loss: 0.4475 - val_binary_accuracy: 0.8432\n",
            "Epoch 14/15\n",
            "200/200 [==============================] - 2s 9ms/step - loss: 0.4225 - binary_accuracy: 0.8648 - val_loss: 0.4330 - val_binary_accuracy: 0.8466\n",
            "Epoch 15/15\n",
            "200/200 [==============================] - 2s 8ms/step - loss: 0.4077 - binary_accuracy: 0.8687 - val_loss: 0.4201 - val_binary_accuracy: 0.8510\n",
            "\n",
            "-----------------------------------------\n",
            "\n",
            "{'Adam_scratch': [0.3254420757293701, 0.15938781201839447, 0.09939432144165039, 0.06445788592100143, 0.045849885791540146, 0.029043180868029594, 0.02662881836295128, 0.023190567269921303, 0.011962870135903358, 0.008949263021349907, 0.01585049368441105, 0.020614929497241974, 0.02114786021411419, 0.009662508964538574, 0.0016817435389384627], 'RMSprop': [0.361454576253891, 0.20155426859855652, 0.14246714115142822, 0.09656913578510284, 0.06372551620006561, 0.04217453673481941, 0.03136831149458885, 0.026802901178598404, 0.03235360607504845, 0.022230016067624092, 0.02427784353494644, 0.018869932740926743, 0.02128794603049755, 0.02365720458328724, 0.020936019718647003], 'Adam': [0.3232249319553375, 0.15948006510734558, 0.0972517877817154, 0.06777109950780869, 0.04578742757439613, 0.03685158118605614, 0.026950858533382416, 0.019781654700636864, 0.010094072669744492, 0.014966977760195732, 0.010181759484112263, 0.009751430712640285, 0.008203387260437012, 0.01200024038553238, 0.00885839480906725], 'SGD': [0.685364842414856, 0.6282219290733337, 0.5302512645721436, 0.4358692467212677, 0.3738495409488678, 0.3353632092475891, 0.3084942698478699, 0.2878227233886719, 0.270564466714859, 0.25624749064445496, 0.24425549805164337, 0.23346614837646484, 0.22371192276477814, 0.21549969911575317, 0.20726993680000305], 'Adadelta': [0.6908854842185974, 0.6843159794807434, 0.6720781326293945, 0.6516285538673401, 0.6252703666687012, 0.5965078473091125, 0.5676608085632324, 0.5405475497245789, 0.5156986713409424, 0.49301525950431824, 0.47257331013679504, 0.45396384596824646, 0.43696877360343933, 0.42134377360343933, 0.4072258174419403], 'AdaGrad_scratch': [0.6041112542152405, 0.38837552070617676, 0.30627915263175964, 0.26637935638427734, 0.23972806334495544, 0.22016078233718872, 0.20393532514572144, 0.18927423655986786, 0.1770590990781784, 0.16581204533576965, 0.15603969991207123, 0.14734771847724915, 0.1378970444202423, 0.13109318912029266, 0.12304115295410156], 'AdaDelta_scratch': [0.6884949803352356, 0.6756842732429504, 0.6576268076896667, 0.6349021196365356, 0.6104361414909363, 0.586066722869873, 0.5623020529747009, 0.53929603099823, 0.5170655250549316, 0.49574339389801025, 0.4754840135574341, 0.4564693570137024, 0.4387996792793274, 0.42254215478897095, 0.407691091299057]}\n"
          ]
        }
      ],
      "source": [
        "trainingLoss = {}\n",
        "from tensorflow import keras\n",
        "from optimizers.ADAM import ADAM\n",
        "from optimizers.opts import AdaDelta, Momentum, AdaGrad\n",
        "\n",
        "def trainDifOptimizer(optmzr):\n",
        "    # torch.manual_seed(seed)\n",
        "    model = models.Sequential()\n",
        "    model.add(layers.Dense(20, activation='relu', input_shape=(10000,)))\n",
        "    model.add(layers.Dense(20, activation='relu'))\n",
        "    model.add(layers.Dense(1, activation='sigmoid'))\n",
        "    optimizer = None\n",
        "    if optmzr=='Adam_scratch':\n",
        "      optimizer = getattr(optimizers,\"Adam\")(lr=0.01) \n",
        "    elif optmzr=='AdaDelta_scratch':\n",
        "      optimizer = getattr(optimizers,\"Adadelta\")(lr=0.01)\n",
        "    elif optmzr=='Momentum_scratch':\n",
        "      optimizer = getattr(optimizers,\"momentum\")(lr=0.01)\n",
        "    elif optmzr=='AdaGrad_scratch':\n",
        "      optimizer = getattr(optimizers,\"Adagrad\")(lr=0.01)\n",
        "    else:\n",
        "      optimizer = getattr(optimizers, optmzr)(lr=0.01)\n",
        "    \n",
        "    model.compile(optimizer=optimizer,\n",
        "              loss = losses.binary_crossentropy,\n",
        "              metrics = [metrics.binary_accuracy])\n",
        "    n_epochs = 15 \n",
        "\n",
        "    trainLossForOptimizer = []\n",
        "    print(\"\\n-----------------------------------------\\n\")\n",
        "    print(\"Optimizer : \", optmzr, \"\\n\")\n",
        "    history = model.fit(partial_X_train,\n",
        "                partial_y_train,\n",
        "                epochs=15,\n",
        "                batch_size=100,\n",
        "                validation_data=(X_val, y_val))\n",
        "\n",
        "    trainingLoss[optmzr] = history.history['loss']\n",
        "    print(\"\\n-----------------------------------------\\n\")\n",
        "\n",
        "optimizersLst = ['Adam_scratch','RMSprop','Adam', 'SGD','Adadelta','AdaGrad_scratch','AdaDelta_scratch',]\n",
        "# optimizersLst = ['Adam_scratch','AdaGrad_scratch','AdaDelta_scratch','Momentum_scratch']\n",
        "for optmzr in optimizersLst:\n",
        "    trainDifOptimizer(optmzr)\n",
        "\n",
        "print(trainingLoss)"
      ]
    },
    {
      "cell_type": "code",
      "execution_count": 16,
      "metadata": {
        "id": "pU4NjKZJN_ze"
      },
      "outputs": [],
      "source": [
        "import matplotlib.pyplot as plt\n",
        "%matplotlib inline"
      ]
    },
    {
      "cell_type": "code",
      "execution_count": 17,
      "metadata": {
        "colab": {
          "base_uri": "https://localhost:8080/",
          "height": 295
        },
        "id": "H7D7U_mPN_2I",
        "outputId": "9ce762e3-e624-4c4a-d624-2b597eb9f441"
      },
      "outputs": [
        {
          "data": {
            "image/png": "[encoded data removed]",
            "text/plain": [
              "<Figure size 640x480 with 1 Axes>"
            ]
          },
          "metadata": {},
          "output_type": "display_data"
        }
      ],
      "source": [
        "# Plotting losses\n",
        "Xval = np.arange(1, 16)\n",
        "\n",
        "plt.xlabel(\"Epoch\")  # add X-axis label\n",
        "plt.ylabel(\"Training Loss\")  # add Y-axis label\n",
        "plt.title(\"Logistic Regression on IMDB with different optimizers\")  # add title\n",
        "\n",
        "for key, value in trainingLoss.items():\n",
        "    plt.plot(Xval, value, label=key)\n",
        "\n",
        "plt.legend()\n",
        "# plt.show()\n",
        "plt.savefig('LR_imdb.png')"
      ]
    },
    {
      "cell_type": "markdown",
      "metadata": {
        "id": "6DdW3Sb3dzvI"
      },
      "source": [
        "### Accuracy and Result"
      ]
    },
    {
      "cell_type": "code",
      "execution_count": 18,
      "metadata": {
        "colab": {
          "base_uri": "https://localhost:8080/"
        },
        "id": "U9GOj9bROhdq",
        "outputId": "2819ac69-dda8-4798-90c4-0d979ae26070"
      },
      "outputs": [
        {
          "name": "stdout",
          "output_type": "stream",
          "text": [
            "Epoch 1/15\n",
            "  1/200 [..............................] - ETA: 1:05 - loss: 0.6960 - binary_accuracy: 0.4500"
          ]
        },
        {
          "name": "stderr",
          "output_type": "stream",
          "text": [
            "2022-12-02 21:39:53.513247: I tensorflow/core/grappler/optimizers/custom_graph_optimizer_registry.cc:114] Plugin optimizer for device_type GPU is enabled.\n"
          ]
        },
        {
          "name": "stdout",
          "output_type": "stream",
          "text": [
            "196/200 [============================>.] - ETA: 0s - loss: 0.3823 - binary_accuracy: 0.8462"
          ]
        },
        {
          "name": "stderr",
          "output_type": "stream",
          "text": [
            "2022-12-02 21:39:55.660450: I tensorflow/core/grappler/optimizers/custom_graph_optimizer_registry.cc:114] Plugin optimizer for device_type GPU is enabled.\n"
          ]
        },
        {
          "name": "stdout",
          "output_type": "stream",
          "text": [
            "200/200 [==============================] - 3s 12ms/step - loss: 0.3800 - binary_accuracy: 0.8471 - val_loss: 0.2726 - val_binary_accuracy: 0.8942\n",
            "Epoch 2/15\n",
            "200/200 [==============================] - 2s 11ms/step - loss: 0.1916 - binary_accuracy: 0.9295 - val_loss: 0.2975 - val_binary_accuracy: 0.8836\n",
            "Epoch 3/15\n",
            "200/200 [==============================] - 2s 11ms/step - loss: 0.1335 - binary_accuracy: 0.9519 - val_loss: 0.3305 - val_binary_accuracy: 0.8852\n",
            "Epoch 4/15\n",
            "200/200 [==============================] - 2s 10ms/step - loss: 0.0960 - binary_accuracy: 0.9678 - val_loss: 0.3963 - val_binary_accuracy: 0.8782\n",
            "Epoch 5/15\n",
            "200/200 [==============================] - 2s 10ms/step - loss: 0.0670 - binary_accuracy: 0.9776 - val_loss: 0.4601 - val_binary_accuracy: 0.8710\n",
            "Epoch 6/15\n",
            "200/200 [==============================] - 2s 10ms/step - loss: 0.0426 - binary_accuracy: 0.9876 - val_loss: 0.5359 - val_binary_accuracy: 0.8688\n",
            "Epoch 7/15\n",
            "200/200 [==============================] - 2s 10ms/step - loss: 0.0250 - binary_accuracy: 0.9941 - val_loss: 0.6017 - val_binary_accuracy: 0.8638\n",
            "Epoch 8/15\n",
            "200/200 [==============================] - 2s 10ms/step - loss: 0.0120 - binary_accuracy: 0.9980 - val_loss: 0.6641 - val_binary_accuracy: 0.8668\n",
            "Epoch 9/15\n",
            "200/200 [==============================] - 2s 10ms/step - loss: 0.0050 - binary_accuracy: 0.9998 - val_loss: 0.7354 - val_binary_accuracy: 0.8680\n",
            "Epoch 10/15\n",
            "200/200 [==============================] - 2s 10ms/step - loss: 0.0023 - binary_accuracy: 0.9999 - val_loss: 0.7890 - val_binary_accuracy: 0.8674\n",
            "Epoch 11/15\n",
            "200/200 [==============================] - 2s 10ms/step - loss: 0.0013 - binary_accuracy: 1.0000 - val_loss: 0.8323 - val_binary_accuracy: 0.8682\n",
            "Epoch 12/15\n",
            "200/200 [==============================] - 2s 10ms/step - loss: 8.5816e-04 - binary_accuracy: 1.0000 - val_loss: 0.8749 - val_binary_accuracy: 0.8662\n",
            "Epoch 13/15\n",
            "200/200 [==============================] - 2s 11ms/step - loss: 6.0441e-04 - binary_accuracy: 1.0000 - val_loss: 0.9125 - val_binary_accuracy: 0.8660\n",
            "Epoch 14/15\n",
            "200/200 [==============================] - 2s 10ms/step - loss: 4.4781e-04 - binary_accuracy: 1.0000 - val_loss: 0.9503 - val_binary_accuracy: 0.8664\n",
            "Epoch 15/15\n",
            "200/200 [==============================] - 2s 11ms/step - loss: 3.2699e-04 - binary_accuracy: 1.0000 - val_loss: 0.9861 - val_binary_accuracy: 0.8666\n",
            " 45/782 [>.............................] - ETA: 2s"
          ]
        },
        {
          "name": "stderr",
          "output_type": "stream",
          "text": [
            "2022-12-02 21:40:26.429077: I tensorflow/core/grappler/optimizers/custom_graph_optimizer_registry.cc:114] Plugin optimizer for device_type GPU is enabled.\n"
          ]
        },
        {
          "name": "stdout",
          "output_type": "stream",
          "text": [
            "782/782 [==============================] - 3s 4ms/step\n"
          ]
        }
      ],
      "source": [
        "# Making Predictions for testing data\n",
        "\n",
        "model = models.Sequential()\n",
        "model.add(layers.Dense(20, activation='relu', input_shape=(10000,)))\n",
        "model.add(layers.Dense(20, activation='relu'))\n",
        "model.add(layers.Dense(1, activation='sigmoid'))\n",
        "model.compile(optimizer=\"Adam\",\n",
        "          loss = losses.binary_crossentropy,\n",
        "            metrics = [metrics.binary_accuracy])\n",
        "\n",
        "history = model.fit(partial_X_train,\n",
        "            partial_y_train,\n",
        "            epochs=15,\n",
        "            batch_size=100,\n",
        "            validation_data=(X_val, y_val))\n",
        "\n",
        "\n",
        "np.set_printoptions(suppress=True)\n",
        "result = model.predict(X_test)"
      ]
    },
    {
      "cell_type": "code",
      "execution_count": 19,
      "metadata": {
        "colab": {
          "base_uri": "https://localhost:8080/"
        },
        "id": "VOSK6a4-O9oS",
        "outputId": "57cf2c44-0a8c-40e3-f894-b5b2681ab111"
      },
      "outputs": [
        {
          "data": {
            "text/plain": [
              "array([[0.0008232 ],\n",
              "       [1.        ],\n",
              "       [0.08086787],\n",
              "       ...,\n",
              "       [0.00028688],\n",
              "       [0.00015205],\n",
              "       [0.9986589 ]], dtype=float32)"
            ]
          },
          "execution_count": 19,
          "metadata": {},
          "output_type": "execute_result"
        }
      ],
      "source": [
        "result"
      ]
    },
    {
      "cell_type": "code",
      "execution_count": 20,
      "metadata": {
        "id": "aX6pio04O9ql"
      },
      "outputs": [],
      "source": [
        "y_pred = np.zeros(len(result))\n",
        "for i, score in enumerate(result):\n",
        "    y_pred[i] = 1 if score > 0.5 else 0"
      ]
    },
    {
      "cell_type": "code",
      "execution_count": 21,
      "metadata": {
        "colab": {
          "base_uri": "https://localhost:8080/"
        },
        "id": "mxMV6-h_O9uB",
        "outputId": "935da282-98fb-4def-d5ee-9ced15291c16"
      },
      "outputs": [
        {
          "name": "stdout",
          "output_type": "stream",
          "text": [
            "Mean Absolute Error : 0.14776\n",
            "Accuracy : 85.224\n"
          ]
        }
      ],
      "source": [
        "from sklearn.metrics import mean_absolute_error,accuracy_score\n",
        "print(\"Mean Absolute Error :\", mean_absolute_error(y_pred, y_test))\n",
        "print(\"Accuracy :\",100*(accuracy_score(y_test, y_pred)))"
      ]
    }
  ],
  "metadata": {
    "colab": {
      "collapsed_sections": [],
      "name": "imdb_sentiment_final.ipynb",
      "provenance": []
    },
    "kernelspec": {
      "display_name": "Python 3.10.6 64-bit",
      "language": "python",
      "name": "python3"
    },
    "language_info": {
      "codemirror_mode": {
        "name": "ipython",
        "version": 3
      },
      "file_extension": ".py",
      "mimetype": "text/x-python",
      "name": "python",
      "nbconvert_exporter": "python",
      "pygments_lexer": "ipython3",
      "version": "3.10.6"
    },
    "vscode": {
      "interpreter": {
        "hash": "329969e5ef26dfb892bdf5087b16a5716398eba3289ffebfe1479d895caa15a8"
      }
    }
  },
  "nbformat": 4,
  "nbformat_minor": 0
}
