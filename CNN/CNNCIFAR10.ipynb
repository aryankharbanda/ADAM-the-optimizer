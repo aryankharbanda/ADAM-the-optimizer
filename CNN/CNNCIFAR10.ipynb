{
 "cells": [
  {
   "cell_type": "markdown",
   "id": "bound-nowhere",
   "metadata": {},
   "source": [
    "<h1>CIFAR 10</h1>\n",
    "\n",
    "<h1>Importing Modules</h1>\n"
   ]
  },
  {
   "cell_type": "code",
   "execution_count": 1,
   "id": "consolidated-degree",
   "metadata": {},
   "outputs": [
    {
     "name": "stderr",
     "output_type": "stream",
     "text": [
      "/Users/aryan/miniconda3/lib/python3.9/site-packages/tqdm/auto.py:22: TqdmWarning: IProgress not found. Please update jupyter and ipywidgets. See https://ipywidgets.readthedocs.io/en/stable/user_install.html\n",
      "  from .autonotebook import tqdm as notebook_tqdm\n"
     ]
    }
   ],
   "source": [
    "import torch\n",
    "import torchvision\n",
    "import numpy as np\n",
    "import matplotlib.pyplot as plt"
   ]
  },
  {
   "cell_type": "markdown",
   "id": "intensive-february",
   "metadata": {},
   "source": [
    "# Loading Data"
   ]
  },
  {
   "cell_type": "code",
   "execution_count": 2,
   "id": "considered-producer",
   "metadata": {
    "scrolled": true
   },
   "outputs": [
    {
     "name": "stdout",
     "output_type": "stream",
     "text": [
      "Downloading https://www.cs.toronto.edu/~kriz/cifar-10-python.tar.gz to data/cifar-10-python.tar.gz\n"
     ]
    },
    {
     "name": "stderr",
     "output_type": "stream",
     "text": [
      "100%|██████████| 170498071/170498071 [00:52<00:00, 3222756.69it/s]\n"
     ]
    },
    {
     "name": "stdout",
     "output_type": "stream",
     "text": [
      "Extracting data/cifar-10-python.tar.gz to data\n",
      "Files already downloaded and verified\n"
     ]
    }
   ],
   "source": [
    "train_batchsize = 100\n",
    "test_batchsize = 10\n",
    "resized_img_size = 32\n",
    "transform = torchvision.transforms.Compose(\n",
    "    [torchvision.transforms.Resize(size=(resized_img_size, resized_img_size)),\n",
    "     torchvision.transforms.ToTensor()])\n",
    "train_data = torchvision.datasets.CIFAR10(root='data', train=True,\n",
    "                                        download=True, transform=transform)\n",
    "test_data = torchvision.datasets.CIFAR10(root='data', train=False,\n",
    "                                       download=True, transform=transform)\n",
    "train_loader = torch.utils.data.DataLoader(train_data, batch_size=train_batchsize)\n",
    "\n",
    "test_loader = torch.utils.data.DataLoader(test_data, batch_size=test_batchsize)\n",
    "\n",
    "classes = ('plane', 'car', 'bird', 'cat',\n",
    "           'deer', 'dog', 'frog', 'horse', 'ship', 'truck')"
   ]
  },
  {
   "cell_type": "markdown",
   "id": "historical-headquarters",
   "metadata": {},
   "source": [
    "# Visualize data"
   ]
  },
  {
   "cell_type": "code",
   "execution_count": 9,
   "id": "short-moldova",
   "metadata": {},
   "outputs": [
    {
     "data": {
      "text/plain": [
       "<matplotlib.image.AxesImage at 0x13a1d67f0>"
      ]
     },
     "execution_count": 9,
     "metadata": {},
     "output_type": "execute_result"
    },
    {
     "data": {
      "image/png": "[encoded data removed]",
      "text/plain": [
       "<Figure size 640x480 with 1 Axes>"
      ]
     },
     "metadata": {},
     "output_type": "display_data"
    }
   ],
   "source": [
    "plt.imshow(train_data[10][0].permute(1,2,0)) "
   ]
  },
  {
   "cell_type": "markdown",
   "id": "checked-scope",
   "metadata": {},
   "source": [
    "# Model"
   ]
  },
  {
   "cell_type": "code",
   "execution_count": 8,
   "id": "twelve-inspector",
   "metadata": {},
   "outputs": [],
   "source": [
    "import torch.nn as nn\n",
    "import torch.nn.functional as F \n",
    "class Net(nn.Module):\n",
    "    def __init__(self):\n",
    "        super(Net, self).__init__()\n",
    "        self.conv1 = nn.Conv2d(3,5,(5,5),padding = \"same\")\n",
    "        self.pool1 = nn.MaxPool2d((3,3),stride=2)\n",
    "        self.conv2 = nn.Conv2d(5,7,(5,5),padding=\"same\")\n",
    "        self.pool2 = nn.MaxPool2d((3,3),stride=2)\n",
    "        self.conv3 = nn.Conv2d(7,9,(5,5),padding=\"same\")\n",
    "        self.pool3 = nn.MaxPool2d((3,3),stride=2)\n",
    "        self.linearlayer = nn.Linear(81,256)\n",
    "        self.linearlayer2 = nn.Linear(256,10)\n",
    "    def forward(self,X):\n",
    "        X = self.pool1(F.relu(self.conv1(X)))\n",
    "        X = self.pool2(F.relu(self.conv2(X)))\n",
    "        X = self.pool3(F.relu(self.conv3(X)))\n",
    "        X = X.view(-1,81) #Flatten\n",
    "        X = F.relu(self.linearlayer(X))\n",
    "        X = self.linearlayer2(X)\n",
    "        return X\n",
    "model = Net()\n",
    "#print(train_loader)\n",
    "#print(model([train_data[0][0]]))"
   ]
  },
  {
   "cell_type": "code",
   "execution_count": 13,
   "id": "crude-tractor",
   "metadata": {
    "scrolled": true
   },
   "outputs": [
    {
     "name": "stdout",
     "output_type": "stream",
     "text": [
      "Optimizer :  AdaGrad_scratch \n",
      "\n",
      "Epoch: 1 \tTraining Loss: 2.278256\n",
      "Epoch: 2 \tTraining Loss: 2.056852\n",
      "Epoch: 3 \tTraining Loss: 1.973294\n",
      "Epoch: 4 \tTraining Loss: 1.932541\n",
      "Epoch: 5 \tTraining Loss: 1.900912\n",
      "\n",
      "-----------------------------------------\n",
      "\n",
      "Optimizer :  AdaDelta_scratch \n",
      "\n",
      "Epoch: 1 \tTraining Loss: 1.900245\n",
      "Epoch: 2 \tTraining Loss: 1.616741\n",
      "Epoch: 3 \tTraining Loss: 1.520434\n",
      "Epoch: 4 \tTraining Loss: 1.461768\n",
      "Epoch: 5 \tTraining Loss: 1.414095\n",
      "\n",
      "-----------------------------------------\n",
      "\n",
      "Optimizer :  RMSprop \n",
      "\n",
      "Epoch: 1 \tTraining Loss: 4.667760\n",
      "Epoch: 2 \tTraining Loss: 2.026987\n",
      "Epoch: 3 \tTraining Loss: 1.902345\n",
      "Epoch: 4 \tTraining Loss: 1.856597\n"
     ]
    },
    {
     "ename": "KeyboardInterrupt",
     "evalue": "",
     "output_type": "error",
     "traceback": [
      "\u001b[0;31m---------------------------------------------------------------------------\u001b[0m",
      "\u001b[0;31mKeyboardInterrupt\u001b[0m                         Traceback (most recent call last)",
      "\u001b[1;32m/Users/aryan/Desktop/iiit/7sem/smai/project/ENTROPYDEATH/SMAI_Entropy_Death/CNNCIFAR10.ipynb Cell 9\u001b[0m in \u001b[0;36m<cell line: 74>\u001b[0;34m()\u001b[0m\n\u001b[1;32m     <a href='vscode-notebook-cell:/Users/aryan/Desktop/iiit/7sem/smai/project/ENTROPYDEATH/SMAI_Entropy_Death/CNNCIFAR10.ipynb#X11sZmlsZQ%3D%3D?line=71'>72</a>\u001b[0m optimizersLst \u001b[39m=\u001b[39m [\u001b[39m'\u001b[39m\u001b[39mAdaGrad_scratch\u001b[39m\u001b[39m'\u001b[39m,\u001b[39m'\u001b[39m\u001b[39mAdaDelta_scratch\u001b[39m\u001b[39m'\u001b[39m,\u001b[39m'\u001b[39m\u001b[39mRMSprop\u001b[39m\u001b[39m'\u001b[39m,\u001b[39m'\u001b[39m\u001b[39mAdam_scratch\u001b[39m\u001b[39m'\u001b[39m,\u001b[39m'\u001b[39m\u001b[39mAdam\u001b[39m\u001b[39m'\u001b[39m, \u001b[39m'\u001b[39m\u001b[39mSGD\u001b[39m\u001b[39m'\u001b[39m,\u001b[39m'\u001b[39m\u001b[39mAdadelta\u001b[39m\u001b[39m'\u001b[39m]\n\u001b[1;32m     <a href='vscode-notebook-cell:/Users/aryan/Desktop/iiit/7sem/smai/project/ENTROPYDEATH/SMAI_Entropy_Death/CNNCIFAR10.ipynb#X11sZmlsZQ%3D%3D?line=73'>74</a>\u001b[0m \u001b[39mfor\u001b[39;00m optmzr \u001b[39min\u001b[39;00m optimizersLst:\n\u001b[0;32m---> <a href='vscode-notebook-cell:/Users/aryan/Desktop/iiit/7sem/smai/project/ENTROPYDEATH/SMAI_Entropy_Death/CNNCIFAR10.ipynb#X11sZmlsZQ%3D%3D?line=74'>75</a>\u001b[0m     trainDifOptimizer(optmzr)\n\u001b[1;32m     <a href='vscode-notebook-cell:/Users/aryan/Desktop/iiit/7sem/smai/project/ENTROPYDEATH/SMAI_Entropy_Death/CNNCIFAR10.ipynb#X11sZmlsZQ%3D%3D?line=75'>76</a>\u001b[0m file\u001b[39m.\u001b[39mwrite(\u001b[39m\"\u001b[39m\u001b[39m***********************************OVER********************************\u001b[39m\u001b[39m\"\u001b[39m)\n\u001b[1;32m     <a href='vscode-notebook-cell:/Users/aryan/Desktop/iiit/7sem/smai/project/ENTROPYDEATH/SMAI_Entropy_Death/CNNCIFAR10.ipynb#X11sZmlsZQ%3D%3D?line=76'>77</a>\u001b[0m \u001b[39mprint\u001b[39m(trainingLoss)\n",
      "\u001b[1;32m/Users/aryan/Desktop/iiit/7sem/smai/project/ENTROPYDEATH/SMAI_Entropy_Death/CNNCIFAR10.ipynb Cell 9\u001b[0m in \u001b[0;36mtrainDifOptimizer\u001b[0;34m(optmzr)\u001b[0m\n\u001b[1;32m     <a href='vscode-notebook-cell:/Users/aryan/Desktop/iiit/7sem/smai/project/ENTROPYDEATH/SMAI_Entropy_Death/CNNCIFAR10.ipynb#X11sZmlsZQ%3D%3D?line=44'>45</a>\u001b[0m loss \u001b[39m=\u001b[39m criterion(output, target)\n\u001b[1;32m     <a href='vscode-notebook-cell:/Users/aryan/Desktop/iiit/7sem/smai/project/ENTROPYDEATH/SMAI_Entropy_Death/CNNCIFAR10.ipynb#X11sZmlsZQ%3D%3D?line=45'>46</a>\u001b[0m \u001b[39m# backward pass: compute gradient of the loss with respect to model parameters\u001b[39;00m\n\u001b[0;32m---> <a href='vscode-notebook-cell:/Users/aryan/Desktop/iiit/7sem/smai/project/ENTROPYDEATH/SMAI_Entropy_Death/CNNCIFAR10.ipynb#X11sZmlsZQ%3D%3D?line=46'>47</a>\u001b[0m loss\u001b[39m.\u001b[39;49mbackward()\n\u001b[1;32m     <a href='vscode-notebook-cell:/Users/aryan/Desktop/iiit/7sem/smai/project/ENTROPYDEATH/SMAI_Entropy_Death/CNNCIFAR10.ipynb#X11sZmlsZQ%3D%3D?line=47'>48</a>\u001b[0m \u001b[39m# perform a single optimization step (parameter update)\u001b[39;00m\n\u001b[1;32m     <a href='vscode-notebook-cell:/Users/aryan/Desktop/iiit/7sem/smai/project/ENTROPYDEATH/SMAI_Entropy_Death/CNNCIFAR10.ipynb#X11sZmlsZQ%3D%3D?line=48'>49</a>\u001b[0m optimizer\u001b[39m.\u001b[39mstep()\n",
      "File \u001b[0;32m~/miniconda3/lib/python3.9/site-packages/torch/_tensor.py:487\u001b[0m, in \u001b[0;36mTensor.backward\u001b[0;34m(self, gradient, retain_graph, create_graph, inputs)\u001b[0m\n\u001b[1;32m    477\u001b[0m \u001b[39mif\u001b[39;00m has_torch_function_unary(\u001b[39mself\u001b[39m):\n\u001b[1;32m    478\u001b[0m     \u001b[39mreturn\u001b[39;00m handle_torch_function(\n\u001b[1;32m    479\u001b[0m         Tensor\u001b[39m.\u001b[39mbackward,\n\u001b[1;32m    480\u001b[0m         (\u001b[39mself\u001b[39m,),\n\u001b[0;32m   (...)\u001b[0m\n\u001b[1;32m    485\u001b[0m         inputs\u001b[39m=\u001b[39minputs,\n\u001b[1;32m    486\u001b[0m     )\n\u001b[0;32m--> 487\u001b[0m torch\u001b[39m.\u001b[39;49mautograd\u001b[39m.\u001b[39;49mbackward(\n\u001b[1;32m    488\u001b[0m     \u001b[39mself\u001b[39;49m, gradient, retain_graph, create_graph, inputs\u001b[39m=\u001b[39;49minputs\n\u001b[1;32m    489\u001b[0m )\n",
      "File \u001b[0;32m~/miniconda3/lib/python3.9/site-packages/torch/autograd/__init__.py:197\u001b[0m, in \u001b[0;36mbackward\u001b[0;34m(tensors, grad_tensors, retain_graph, create_graph, grad_variables, inputs)\u001b[0m\n\u001b[1;32m    192\u001b[0m     retain_graph \u001b[39m=\u001b[39m create_graph\n\u001b[1;32m    194\u001b[0m \u001b[39m# The reason we repeat same the comment below is that\u001b[39;00m\n\u001b[1;32m    195\u001b[0m \u001b[39m# some Python versions print out the first line of a multi-line function\u001b[39;00m\n\u001b[1;32m    196\u001b[0m \u001b[39m# calls in the traceback and some print out the last line\u001b[39;00m\n\u001b[0;32m--> 197\u001b[0m Variable\u001b[39m.\u001b[39;49m_execution_engine\u001b[39m.\u001b[39;49mrun_backward(  \u001b[39m# Calls into the C++ engine to run the backward pass\u001b[39;49;00m\n\u001b[1;32m    198\u001b[0m     tensors, grad_tensors_, retain_graph, create_graph, inputs,\n\u001b[1;32m    199\u001b[0m     allow_unreachable\u001b[39m=\u001b[39;49m\u001b[39mTrue\u001b[39;49;00m, accumulate_grad\u001b[39m=\u001b[39;49m\u001b[39mTrue\u001b[39;49;00m)\n",
      "\u001b[0;31mKeyboardInterrupt\u001b[0m: "
     ]
    }
   ],
   "source": [
    "from optimizers.ADAM import ADAM\n",
    "# from optimizers.AdaDelta import AdaDelta\n",
    "# from optimizers.Momentum import Momentum\n",
    "# from optimizers.AdaGrad import AdaGrad\n",
    "from optimizers.opts import AdaDelta, Momentum, AdaGrad\n",
    "\n",
    "trainingLoss = {}\n",
    "# Fixed seed for random weight initialization (to keep the weights same for all\n",
    "# the models)\n",
    "#torch.manual_seed(3)\n",
    "seed = 10\n",
    "file = open(\"./results/TrainingLossess.txt\",\"w\")\n",
    "Models = []\n",
    "def trainDifOptimizer(optmzr):\n",
    "    torch.manual_seed(seed)\n",
    "    model = Net()\n",
    "    criterion = nn.CrossEntropyLoss()\n",
    "    optimizer = None\n",
    "    if optmzr=='Adam_scratch':\n",
    "      optimizer = ADAM(model.parameters(), lr=0.01)\n",
    "    elif optmzr=='AdaDelta_scratch':\n",
    "        optimizer = AdaDelta(model.parameters(), lr=0.01) \n",
    "    elif optmzr=='AdaGrad_scratch':\n",
    "        optimizer = AdaGrad(model.parameters(), lr=0.01)\n",
    "    elif optmzr=='Momentum_scratch':\n",
    "        optimizer = Momentum(model.parameters(), lr=0.01)\n",
    "    else:\n",
    "      optimizer = getattr(torch.optim, optmzr)(model.parameters(), lr=0.01)\n",
    "    \n",
    "    n_epochs = 10 # suggest training between 20-50 epochs\n",
    "\n",
    "    model.train()  # prep model for training\n",
    "    trainLossForOptimizer = []\n",
    "    print(\"Optimizer : \", optmzr, \"\\n\")\n",
    "    file.writelines([\"Optimizer : \", optmzr, \"\\n\"])\n",
    "    for epoch in range(n_epochs):\n",
    "        train_loss = 0.0\n",
    "\n",
    "        for data, target in train_loader:\n",
    "            # clear the gradients of all optimized variables\n",
    "            optimizer.zero_grad()\n",
    "            # forward pass: compute predicted outputs by passing inputs to the model\n",
    "            output = model(data)\n",
    "            # calculate the loss\n",
    "            loss = criterion(output, target)\n",
    "            # backward pass: compute gradient of the loss with respect to model parameters\n",
    "            loss.backward()\n",
    "            # perform a single optimization step (parameter update)\n",
    "            optimizer.step()\n",
    "            # update running training loss\n",
    "            train_loss += loss.item()*data.size(0)\n",
    "\n",
    "        # print training statistics\n",
    "        # calculate average loss over an epoch\n",
    "        train_loss = train_loss/len(train_loader.dataset)\n",
    "        trainLossForOptimizer.append(train_loss)\n",
    "        \n",
    "        print('Epoch: {} \\tTraining Loss: {:.6f}'.format(\n",
    "            epoch+1,\n",
    "            train_loss\n",
    "        ))\n",
    "        file.write('Epoch: {} \\tTraining Loss: {:.6f}'.format(\n",
    "            epoch+1,\n",
    "            train_loss\n",
    "        ))\n",
    "    torch.save(model, 'saved_models/'+optmzr+'_cnn_model')\n",
    "    Models.append(model)\n",
    "    trainingLoss[optmzr] = trainLossForOptimizer\n",
    "    print(\"\\n-----------------------------------------\\n\")\n",
    "    file.write(\"\\n-----------------------------------------\\n\")\n",
    "\n",
    "optimizersLst = ['AdaGrad_scratch','AdaDelta_scratch','RMSprop','Adam_scratch','Adam', 'SGD','Adadelta']\n",
    "\n",
    "for optmzr in optimizersLst:\n",
    "    trainDifOptimizer(optmzr)\n",
    "file.write(\"***********************************OVER********************************\")\n",
    "print(trainingLoss)"
   ]
  },
  {
   "cell_type": "code",
   "execution_count": 36,
   "id": "interesting-journey",
   "metadata": {
    "scrolled": true
   },
   "outputs": [
    {
     "data": {
      "image/png": "[encoded data removed]",
      "text/plain": [
       "<Figure size 432x288 with 1 Axes>"
      ]
     },
     "metadata": {
      "needs_background": "light"
     },
     "output_type": "display_data"
    }
   ],
   "source": [
    "Xval = np.arange(1,11,1)\n",
    "\n",
    "plt.xlabel(\"Epoch\")  # add X-axis label\n",
    "plt.ylabel(\"Training Loss\")  # add Y-axis label\n",
    "plt.title(\"CNN on CiFar10 with different optimizers\")  # add title\n",
    "for key, value in trainingLoss.items():\n",
    "    plt.plot(Xval, value, label=key)\n",
    "\n",
    "plt.legend()\n",
    "plt.show()"
   ]
  },
  {
   "cell_type": "code",
   "execution_count": 39,
   "id": "eastern-cabinet",
   "metadata": {},
   "outputs": [
    {
     "name": "stdout",
     "output_type": "stream",
     "text": [
      "Accuracy of the network on the 10000 test images: 55 %\n"
     ]
    }
   ],
   "source": []
  },
  {
   "cell_type": "code",
   "execution_count": null,
   "id": "negative-homework",
   "metadata": {},
   "outputs": [],
   "source": []
  }
 ],
 "metadata": {
  "kernelspec": {
   "display_name": "Python 3.9.13 ('base')",
   "language": "python",
   "name": "python3"
  },
  "language_info": {
   "codemirror_mode": {
    "name": "ipython",
    "version": 3
   },
   "file_extension": ".py",
   "mimetype": "text/x-python",
   "name": "python",
   "nbconvert_exporter": "python",
   "pygments_lexer": "ipython3",
   "version": "3.9.13"
  },
  "vscode": {
   "interpreter": {
    "hash": "484c87dc52cbd42243bc1171df59ab6f1e6a4de58eea8ccf818b7da1a09ad7da"
   }
  }
 },
 "nbformat": 4,
 "nbformat_minor": 5
}
