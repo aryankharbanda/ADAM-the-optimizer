{
 "cells": [
  {
   "cell_type": "markdown",
   "id": "bound-nowhere",
   "metadata": {},
   "source": [
    "<h1>CIFAR 10</h1>\n",
    "\n",
    "<h1>Importing Modules</h1>\n"
   ]
  },
  {
   "cell_type": "code",
   "execution_count": 1,
   "id": "consolidated-degree",
   "metadata": {},
   "outputs": [],
   "source": [
    "import torch\n",
    "import torchvision\n",
    "import numpy as np\n",
    "import matplotlib.pyplot as plt"
   ]
  },
  {
   "cell_type": "markdown",
   "id": "intensive-february",
   "metadata": {},
   "source": [
    "# Loading Data"
   ]
  },
  {
   "cell_type": "code",
   "execution_count": 3,
   "id": "considered-producer",
   "metadata": {
    "scrolled": true
   },
   "outputs": [
    {
     "name": "stdout",
     "output_type": "stream",
     "text": [
      "Downloading https://www.cs.toronto.edu/~kriz/cifar-10-python.tar.gz to data/cifar-10-python.tar.gz\n"
     ]
    },
    {
     "name": "stderr",
     "output_type": "stream",
     "text": [
      "170499072it [28:27, 99879.35it/s]                                \n"
     ]
    },
    {
     "name": "stdout",
     "output_type": "stream",
     "text": [
      "Extracting data/cifar-10-python.tar.gz to data\n",
      "Files already downloaded and verified\n"
     ]
    }
   ],
   "source": [
    "train_batchsize = 100\n",
    "test_batchsize = 10\n",
    "resized_img_size = 32\n",
    "transform = torchvision.transforms.Compose(\n",
    "    [torchvision.transforms.Resize(size=(resized_img_size, resized_img_size)),\n",
    "     torchvision.transforms.ToTensor()])\n",
    "train_data = torchvision.datasets.CIFAR10(root='data', train=True,\n",
    "                                        download=True, transform=transform)\n",
    "test_data = torchvision.datasets.CIFAR10(root='data', train=False,\n",
    "                                       download=True, transform=transform)\n",
    "train_loader = torch.utils.data.DataLoader(train_data, batch_size=train_batchsize)\n",
    "\n",
    "test_loader = torch.utils.data.DataLoader(test_data, batch_size=test_batchsize)\n",
    "\n",
    "classes = ('plane', 'car', 'bird', 'cat',\n",
    "           'deer', 'dog', 'frog', 'horse', 'ship', 'truck')"
   ]
  },
  {
   "cell_type": "markdown",
   "id": "historical-headquarters",
   "metadata": {},
   "source": [
    "# Visualize data"
   ]
  },
  {
   "cell_type": "code",
   "execution_count": 4,
   "id": "short-moldova",
   "metadata": {},
   "outputs": [
    {
     "data": {
      "text/plain": [
       "<matplotlib.image.AxesImage at 0x17eaa6c40>"
      ]
     },
     "execution_count": 4,
     "metadata": {},
     "output_type": "execute_result"
    },
    {
     "data": {
      "image/png": "[encoded data removed]",
      "text/plain": [
       "<Figure size 432x288 with 1 Axes>"
      ]
     },
     "metadata": {
      "needs_background": "light"
     },
     "output_type": "display_data"
    }
   ],
   "source": [
    "plt.imshow(train_data[10][0].permute(1,2,0)) "
   ]
  },
  {
   "cell_type": "markdown",
   "id": "checked-scope",
   "metadata": {},
   "source": [
    "# Model"
   ]
  },
  {
   "cell_type": "code",
   "execution_count": 5,
   "id": "twelve-inspector",
   "metadata": {},
   "outputs": [],
   "source": [
    "import torch.nn as nn\n",
    "import torch.nn.functional as F \n",
    "class Net(nn.Module):\n",
    "    def __init__(self):\n",
    "        super(Net, self).__init__()\n",
    "        self.conv1 = nn.Conv2d(3,5,(5,5),padding = \"same\")\n",
    "        self.pool1 = nn.MaxPool2d((3,3),stride=2)\n",
    "        self.conv2 = nn.Conv2d(5,7,(5,5),padding=\"same\")\n",
    "        self.pool2 = nn.MaxPool2d((3,3),stride=2)\n",
    "        self.conv3 = nn.Conv2d(7,9,(5,5),padding=\"same\")\n",
    "        self.pool3 = nn.MaxPool2d((3,3),stride=2)\n",
    "        self.linearlayer = nn.Linear(81,256)\n",
    "        self.linearlayer2 = nn.Linear(256,10)\n",
    "    def forward(self,X):\n",
    "        X = self.pool1(F.relu(self.conv1(X)))\n",
    "        X = self.pool2(F.relu(self.conv2(X)))\n",
    "        X = self.pool3(F.relu(self.conv3(X)))\n",
    "        X = X.view(-1,81) #Flatten\n",
    "        X = F.relu(self.linearlayer(X))\n",
    "        X = self.linearlayer2(X)\n",
    "        return X\n",
    "model = Net()\n",
    "#print(train_loader)\n",
    "#print(model([train_data[0][0]]))"
   ]
  },
  {
   "cell_type": "code",
   "execution_count": 10,
   "id": "crude-tractor",
   "metadata": {
    "scrolled": true
   },
   "outputs": [
    {
     "name": "stdout",
     "output_type": "stream",
     "text": [
      "Optimizer :  Adam \n",
      "\n",
      "Epoch: 1 \tTraining Loss: 1.988435\n",
      "Epoch: 2 \tTraining Loss: 1.884936\n",
      "Epoch: 3 \tTraining Loss: 1.863718\n",
      "Epoch: 4 \tTraining Loss: 1.840861\n",
      "Epoch: 5 \tTraining Loss: 1.826457\n",
      "Epoch: 6 \tTraining Loss: 1.809438\n",
      "Epoch: 7 \tTraining Loss: 1.802081\n",
      "Epoch: 8 \tTraining Loss: 1.796596\n",
      "Epoch: 9 \tTraining Loss: 1.788642\n",
      "Epoch: 10 \tTraining Loss: 1.791802\n",
      "\n",
      "-----------------------------------------\n",
      "\n",
      "Optimizer :  RMSprop \n",
      "\n",
      "Epoch: 1 \tTraining Loss: 4.634843\n",
      "Epoch: 2 \tTraining Loss: 2.002689\n",
      "Epoch: 3 \tTraining Loss: 1.929818\n",
      "Epoch: 4 \tTraining Loss: 1.873798\n",
      "Epoch: 5 \tTraining Loss: 1.824778\n",
      "Epoch: 6 \tTraining Loss: 1.794721\n",
      "Epoch: 7 \tTraining Loss: 1.763292\n",
      "Epoch: 8 \tTraining Loss: 1.745191\n",
      "Epoch: 9 \tTraining Loss: 1.732388\n",
      "Epoch: 10 \tTraining Loss: 1.723194\n",
      "\n",
      "-----------------------------------------\n",
      "\n",
      "Optimizer :  SGD \n",
      "\n",
      "Epoch: 1 \tTraining Loss: 2.301301\n",
      "Epoch: 2 \tTraining Loss: 2.292347\n",
      "Epoch: 3 \tTraining Loss: 2.155537\n",
      "Epoch: 4 \tTraining Loss: 1.992292\n",
      "Epoch: 5 \tTraining Loss: 1.925950\n",
      "Epoch: 6 \tTraining Loss: 1.859245\n",
      "Epoch: 7 \tTraining Loss: 1.793272\n",
      "Epoch: 8 \tTraining Loss: 1.721629\n",
      "Epoch: 9 \tTraining Loss: 1.659252\n",
      "Epoch: 10 \tTraining Loss: 1.609748\n",
      "\n",
      "-----------------------------------------\n",
      "\n",
      "Optimizer :  Adadelta \n",
      "\n",
      "Epoch: 1 \tTraining Loss: 2.301830\n",
      "Epoch: 2 \tTraining Loss: 2.298162\n",
      "Epoch: 3 \tTraining Loss: 2.285245\n",
      "Epoch: 4 \tTraining Loss: 2.225839\n",
      "Epoch: 5 \tTraining Loss: 2.107390\n",
      "Epoch: 6 \tTraining Loss: 2.048211\n",
      "Epoch: 7 \tTraining Loss: 2.022564\n",
      "Epoch: 8 \tTraining Loss: 2.005276\n",
      "Epoch: 9 \tTraining Loss: 1.991850\n",
      "Epoch: 10 \tTraining Loss: 1.980091\n",
      "\n",
      "-----------------------------------------\n",
      "\n",
      "Optimizer :  Adam_scratch \n",
      "\n",
      "Epoch: 1 \tTraining Loss: 1.853937\n",
      "Epoch: 2 \tTraining Loss: 1.594292\n",
      "Epoch: 3 \tTraining Loss: 1.481212\n",
      "Epoch: 4 \tTraining Loss: 1.417812\n",
      "Epoch: 5 \tTraining Loss: 1.372659\n",
      "Epoch: 6 \tTraining Loss: 1.336877\n",
      "Epoch: 7 \tTraining Loss: 1.304716\n",
      "Epoch: 8 \tTraining Loss: 1.278765\n",
      "Epoch: 9 \tTraining Loss: 1.257193\n",
      "Epoch: 10 \tTraining Loss: 1.237778\n",
      "\n",
      "-----------------------------------------\n",
      "\n",
      "Optimizer :  AdaDelta_scratch \n",
      "\n",
      "Epoch: 1 \tTraining Loss: 1.898588\n",
      "Epoch: 2 \tTraining Loss: 1.621738\n",
      "Epoch: 3 \tTraining Loss: 1.526960\n",
      "Epoch: 4 \tTraining Loss: 1.470990\n",
      "Epoch: 5 \tTraining Loss: 1.426732\n",
      "Epoch: 6 \tTraining Loss: 1.388081\n",
      "Epoch: 7 \tTraining Loss: 1.354895\n",
      "Epoch: 8 \tTraining Loss: 1.324203\n",
      "Epoch: 9 \tTraining Loss: 1.296884\n",
      "Epoch: 10 \tTraining Loss: 1.273198\n",
      "\n",
      "-----------------------------------------\n",
      "\n",
      "Optimizer :  AdaGrad_scratch \n",
      "\n",
      "Epoch: 1 \tTraining Loss: 2.278224\n",
      "Epoch: 2 \tTraining Loss: 2.056665\n",
      "Epoch: 3 \tTraining Loss: 1.973321\n",
      "Epoch: 4 \tTraining Loss: 1.932877\n",
      "Epoch: 5 \tTraining Loss: 1.901493\n",
      "Epoch: 6 \tTraining Loss: 1.876529\n",
      "Epoch: 7 \tTraining Loss: 1.856567\n",
      "Epoch: 8 \tTraining Loss: 1.840121\n",
      "Epoch: 9 \tTraining Loss: 1.825627\n",
      "Epoch: 10 \tTraining Loss: 1.812803\n",
      "\n",
      "-----------------------------------------\n",
      "\n",
      "{'Adam': [1.9884354841709138, 1.884935618162155, 1.8637184274196625, 1.8408609700202943, 1.8264569551944734, 1.809437964439392, 1.8020813796520234, 1.7965960726737975, 1.788641719341278, 1.7918018143177032], 'RMSprop': [4.634842726707459, 2.0026889514923094, 1.9298178601264953, 1.8737979881763458, 1.8247778735160827, 1.7947213933467865, 1.7632917964458465, 1.7451907002925873, 1.7323884835243226, 1.723194495677948], 'SGD': [2.3013008127212524, 2.2923469834327697, 2.1555372331142424, 1.9922919511795043, 1.9259500410556794, 1.8592446947097778, 1.7932718617916108, 1.7216289746761322, 1.6592519166469575, 1.609748036146164], 'Adadelta': [2.3018300862312318, 2.2981622195243836, 2.2852453260421752, 2.2258387422561645, 2.1073900120258333, 2.0482110016345976, 2.0225643277168275, 2.0052762310504915, 1.991849581003189, 1.980091194629669], 'Adam_scratch': [1.8539367587566375, 1.5942924692630769, 1.4812117402553557, 1.4178123199939727, 1.3726585590839386, 1.336876604795456, 1.304715723991394, 1.2787652757167816, 1.2571925922632217, 1.2377776201963424], 'AdaDelta_scratch': [1.898588095664978, 1.6217375411987305, 1.5269602818489074, 1.4709899127483368, 1.4267315163612366, 1.3880814759731293, 1.3548950526714325, 1.3242029428482056, 1.2968842245340346, 1.2731983652114869], 'AdaGrad_scratch': [2.2782238669395447, 2.0566647582054136, 1.973320811510086, 1.9328765258789062, 1.9014930076599121, 1.8765288336277008, 1.8565670101642608, 1.8401210412979125, 1.8256273636817932, 1.8128032312393187]}\n"
     ]
    }
   ],
   "source": [
    "from optimizers.ADAM import ADAM\n",
    "from optimizers.opts import AdaDelta, Momentum, AdaGrad\n",
    "trainingLoss = {}\n",
    "# Fixed seed for random weight initialization (to keep the weights same for all\n",
    "# the models)\n",
    "#torch.manual_seed(3)\n",
    "seed = 10\n",
    "file = open(\"./results/TrainingLossess.txt\",\"w\")\n",
    "Models = []\n",
    "def trainDifOptimizer(optmzr):\n",
    "    torch.manual_seed(seed)\n",
    "    model = Net()\n",
    "    criterion = nn.CrossEntropyLoss()\n",
    "    optimizer = None\n",
    "    if optmzr=='Adam_scratch':\n",
    "      optimizer = ADAM(model.parameters(), lr=0.01)\n",
    "    elif optmzr=='AdaDelta_scratch':\n",
    "        optimizer = AdaDelta(model.parameters(), lr=0.01) \n",
    "    elif optmzr=='AdaGrad_scratch':\n",
    "        optimizer = AdaGrad(model.parameters(), lr=0.01)\n",
    "    elif optmzr=='Momentum_scratch':\n",
    "        optimizer = Momentum(model.parameters(), lr=0.01)\n",
    "    else:\n",
    "      optimizer = getattr(torch.optim, optmzr)(model.parameters(), lr=0.01)\n",
    "    \n",
    "    n_epochs = 10 # suggest training between 20-50 epochs\n",
    "\n",
    "    model.train()  # prep model for training\n",
    "    trainLossForOptimizer = []\n",
    "    print(\"Optimizer : \", optmzr, \"\\n\")\n",
    "    file.writelines([\"Optimizer : \", optmzr, \"\\n\"])\n",
    "    for epoch in range(n_epochs):\n",
    "        train_loss = 0.0\n",
    "\n",
    "        for data, target in train_loader:\n",
    "            # clear the gradients of all optimized variables\n",
    "            optimizer.zero_grad()\n",
    "            # forward pass: compute predicted outputs by passing inputs to the model\n",
    "            output = model(data)\n",
    "            # calculate the loss\n",
    "            loss = criterion(output, target)\n",
    "            # backward pass: compute gradient of the loss with respect to model parameters\n",
    "            loss.backward()\n",
    "            # perform a single optimization step (parameter update)\n",
    "            optimizer.step()\n",
    "            # update running training loss\n",
    "            train_loss += loss.item()*data.size(0)\n",
    "\n",
    "        # print training statistics\n",
    "        # calculate average loss over an epoch\n",
    "        train_loss = train_loss/len(train_loader.dataset)\n",
    "        trainLossForOptimizer.append(train_loss)\n",
    "        \n",
    "        print('Epoch: {} \\tTraining Loss: {:.6f}'.format(\n",
    "            epoch+1,\n",
    "            train_loss\n",
    "        ))\n",
    "        file.write('Epoch: {} \\tTraining Loss: {:.6f}'.format(\n",
    "            epoch+1,\n",
    "            train_loss\n",
    "        ))\n",
    "    torch.save(model, 'saved_models/'+optmzr+'_cnn_model')\n",
    "    Models.append(model)\n",
    "    trainingLoss[optmzr] = trainLossForOptimizer\n",
    "    print(\"\\n-----------------------------------------\\n\")\n",
    "    file.write(\"\\n-----------------------------------------\\n\")\n",
    "\n",
    "# optimizersLst = ['RMSprop','Adam_scratch','Adam', 'SGD','Adadelta']\n",
    "optimizersLst = ['Adam', 'RMSprop','SGD','Adadelta','Adam_scratch', 'AdaDelta_scratch', 'AdaGrad_scratch']\n",
    "for optmzr in optimizersLst:\n",
    "    trainDifOptimizer(optmzr)\n",
    "file.write(\"***********************************OVER********************************\")\n",
    "print(trainingLoss)"
   ]
  },
  {
   "cell_type": "code",
   "execution_count": 12,
   "id": "interesting-journey",
   "metadata": {
    "scrolled": true
   },
   "outputs": [
    {
     "data": {
      "image/png": "[encoded data removed]",
      "text/plain": [
       "<Figure size 432x288 with 1 Axes>"
      ]
     },
     "metadata": {
      "needs_background": "light"
     },
     "output_type": "display_data"
    }
   ],
   "source": [
    "Xval = np.arange(1,11,1)\n",
    "\n",
    "plt.xlabel(\"Epoch\")  # add X-axis label\n",
    "plt.ylabel(\"Training Loss\")  # add Y-axis label\n",
    "plt.title(\"CNN on CiFar10 with different optimizers\")  # add title\n",
    "for key, value in trainingLoss.items():\n",
    "    plt.plot(Xval, value, label=key)\n",
    "\n",
    "plt.legend()\n",
    "# plt.show()\n",
    "plt.savefig(\"CNN_CiFar10.png\")"
   ]
  },
  {
   "cell_type": "code",
   "execution_count": null,
   "id": "eastern-cabinet",
   "metadata": {},
   "outputs": [],
   "source": []
  },
  {
   "cell_type": "code",
   "execution_count": null,
   "id": "negative-homework",
   "metadata": {},
   "outputs": [],
   "source": []
  }
 ],
 "metadata": {
  "kernelspec": {
   "display_name": "Python 3.9.13 64-bit",
   "language": "python",
   "name": "python3"
  },
  "language_info": {
   "codemirror_mode": {
    "name": "ipython",
    "version": 3
   },
   "file_extension": ".py",
   "mimetype": "text/x-python",
   "name": "python",
   "nbconvert_exporter": "python",
   "pygments_lexer": "ipython3",
   "version": "3.9.13"
  },
  "vscode": {
   "interpreter": {
    "hash": "b0fa6594d8f4cbf19f97940f81e996739fb7646882a419484c72d19e05852a7e"
   }
  }
 },
 "nbformat": 4,
 "nbformat_minor": 5
}
